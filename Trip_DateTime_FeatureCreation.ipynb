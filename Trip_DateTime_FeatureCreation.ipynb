{
 "cells": [
  {
   "cell_type": "markdown",
   "metadata": {},
   "source": [
    "# Construction of Date/Time Features for NYC Taxi Trip Data"
   ]
  },
  {
   "cell_type": "code",
   "execution_count": 1,
   "metadata": {},
   "outputs": [
    {
     "name": "stderr",
     "output_type": "stream",
     "text": [
      "\n",
      "Attaching package: 'dplyr'\n",
      "\n",
      "The following objects are masked from 'package:stats':\n",
      "\n",
      "    filter, lag\n",
      "\n",
      "The following objects are masked from 'package:base':\n",
      "\n",
      "    intersect, setdiff, setequal, union\n",
      "\n",
      "\n",
      "Attaching package: 'lubridate'\n",
      "\n",
      "The following object is masked from 'package:base':\n",
      "\n",
      "    date\n",
      "\n"
     ]
    }
   ],
   "source": [
    "library(dplyr)\n",
    "library(lubridate)"
   ]
  },
  {
   "cell_type": "code",
   "execution_count": 2,
   "metadata": {
    "collapsed": true
   },
   "outputs": [],
   "source": [
    "trip <- read.csv(\"NYC_Taxi_2013_One_Percent_Trip.csv\")"
   ]
  },
  {
   "cell_type": "code",
   "execution_count": 3,
   "metadata": {},
   "outputs": [
    {
     "data": {
      "text/html": [
       "<ol class=list-inline>\n",
       "\t<li>1703987</li>\n",
       "\t<li>14</li>\n",
       "</ol>\n"
      ],
      "text/latex": [
       "\\begin{enumerate*}\n",
       "\\item 1703987\n",
       "\\item 14\n",
       "\\end{enumerate*}\n"
      ],
      "text/markdown": [
       "1. 1703987\n",
       "2. 14\n",
       "\n",
       "\n"
      ],
      "text/plain": [
       "[1] 1703987      14"
      ]
     },
     "metadata": {},
     "output_type": "display_data"
    },
    {
     "data": {
      "text/plain": [
       "                            medallion      \n",
       " 36CD8C29F77E2F6CBFFA96246F56DF76:    665  \n",
       " 3717C04FF182C423838EE021476A7A69:    608  \n",
       " 02F59ACEA8585B113601E19A3A5F4F47:    560  \n",
       " 9CCF07B476B482C2050A8C63360586F7:    560  \n",
       " 9F1F27280ACE1C0159EAFB1A7FF03771:    559  \n",
       " 87EC61B520189EFEAD8FDFBABD756E4A:    546  \n",
       " (Other)                         :1700489  \n",
       "                           hack_license     vendor_id      rate_code     \n",
       " 149974E97D992C3A227ED35C5EB3AA6B:    448   CMT:847533   Min.   :  0.00  \n",
       " 5BD83749A65720DA48E6DFEA47562405:    351   VTS:856454   1st Qu.:  1.00  \n",
       " D99D198395EC876497BBE06F1A26E954:    342                Median :  1.00  \n",
       " D20DFC59B81A2918082D920FAC2D01B3:    337                Mean   :  1.03  \n",
       " 676BC3464C5238DCCB33E719A5759ED4:    336                3rd Qu.:  1.00  \n",
       " 7B4B3A68E8CC41CEA47AAA2295A8E61E:    336                Max.   :210.00  \n",
       " (Other)                         :1701837                                \n",
       " store_and_fwd_flag             pickup_datetime   \n",
       "    :856666         4/3/2013 7:34:00 PM :     13  \n",
       " N  :827611         11/1/2013 8:05:00 PM:     12  \n",
       " Y  : 19710         3/16/2013 7:58:00 PM:     12  \n",
       "                    3/28/2013 9:25:00 AM:     12  \n",
       "                    3/9/2013 10:58:00 PM:     12  \n",
       "                    3/9/2013 9:57:00 PM :     12  \n",
       "                    (Other)             :1703914  \n",
       "              dropoff_datetime   passenger_count trip_time_in_secs\n",
       " 11/3/2013 1:16:00 AM :     12   Min.   :0.000   Min.   :    -10  \n",
       " 2/21/2013 6:58:00 PM :     12   1st Qu.:1.000   1st Qu.:    362  \n",
       " 4/24/2013 6:52:00 PM :     12   Median :1.000   Median :    600  \n",
       " 10/26/2013 6:56:00 PM:     11   Mean   :1.713   Mean   :    829  \n",
       " 11/14/2013 8:16:00 PM:     11   3rd Qu.:2.000   3rd Qu.:    960  \n",
       " 12/7/2013 9:23:00 PM :     11   Max.   :8.000   Max.   :4294935  \n",
       " (Other)              :1703918                                    \n",
       " trip_distance     pickup_longitude  pickup_latitude    dropoff_longitude\n",
       " Min.   :      0   Min.   :-735.21   Min.   :-3181.08   Min.   :-736.42  \n",
       " 1st Qu.:      1   1st Qu.: -73.99   1st Qu.:   40.74   1st Qu.: -73.99  \n",
       " Median :      2   Median : -73.98   Median :   40.75   Median : -73.98  \n",
       " Mean   :     10   Mean   : -73.63   Mean   :   40.40   Mean   : -73.63  \n",
       " 3rd Qu.:      3   3rd Qu.: -73.97   3rd Qu.:   40.77   3rd Qu.: -73.96  \n",
       " Max.   :8050633   Max.   :  40.99   Max.   :   73.99   Max.   :  40.93  \n",
       "                                                                         \n",
       " dropoff_latitude\n",
       " Min.   :-74.37  \n",
       " 1st Qu.: 40.73  \n",
       " Median : 40.75  \n",
       " Mean   : 40.40  \n",
       " 3rd Qu.: 40.77  \n",
       " Max.   : 73.97  \n",
       "                 "
      ]
     },
     "metadata": {},
     "output_type": "display_data"
    },
    {
     "data": {
      "text/html": [
       "<table>\n",
       "<thead><tr><th scope=col>medallion</th><th scope=col>hack_license</th><th scope=col>vendor_id</th><th scope=col>rate_code</th><th scope=col>store_and_fwd_flag</th><th scope=col>pickup_datetime</th><th scope=col>dropoff_datetime</th><th scope=col>passenger_count</th><th scope=col>trip_time_in_secs</th><th scope=col>trip_distance</th><th scope=col>pickup_longitude</th><th scope=col>pickup_latitude</th><th scope=col>dropoff_longitude</th><th scope=col>dropoff_latitude</th></tr></thead>\n",
       "<tbody>\n",
       "\t<tr><td>00005007A9F30E289E760362F69E4EAD</td><td>A9AE329EA1138052DAC8FDFD8BA86603</td><td>CMT                             </td><td>1                               </td><td>N                               </td><td>3/8/2013 9:55:27 PM             </td><td>3/8/2013 10:05:59 PM            </td><td>2                               </td><td> 631                            </td><td>2.5                             </td><td>-73.95961                       </td><td>40.71594                        </td><td>-73.96342                       </td><td>40.69217                        </td></tr>\n",
       "\t<tr><td>00005007A9F30E289E760362F69E4EAD</td><td>A9AE329EA1138052DAC8FDFD8BA86603</td><td>CMT                             </td><td>1                               </td><td>N                               </td><td>3/9/2013 6:51:52 PM             </td><td>3/9/2013 7:02:59 PM             </td><td>2                               </td><td> 666                            </td><td>1.8                             </td><td>-73.97337                       </td><td>40.76396                        </td><td>-73.97730                       </td><td>40.78214                        </td></tr>\n",
       "\t<tr><td>00005007A9F30E289E760362F69E4EAD</td><td>A9AE329EA1138052DAC8FDFD8BA86603</td><td>CMT                             </td><td>1                               </td><td>N                               </td><td>3/9/2013 7:04:35 PM             </td><td>3/9/2013 7:27:57 PM             </td><td>2                               </td><td>1401                            </td><td>4.4                             </td><td>-73.97784                       </td><td>40.78282                        </td><td>-74.00089                       </td><td>40.73708                        </td></tr>\n",
       "\t<tr><td>00005007A9F30E289E760362F69E4EAD</td><td>A9AE329EA1138052DAC8FDFD8BA86603</td><td>CMT                             </td><td>1                               </td><td>N                               </td><td>3/9/2013 8:33:06 PM             </td><td>3/9/2013 8:45:38 PM             </td><td>1                               </td><td> 751                            </td><td>2.8                             </td><td>-73.98033                       </td><td>40.78438                        </td><td>-73.98429                       </td><td>40.74869                        </td></tr>\n",
       "\t<tr><td>00005007A9F30E289E760362F69E4EAD</td><td>A9AE329EA1138052DAC8FDFD8BA86603</td><td>CMT                             </td><td>1                               </td><td>N                               </td><td>3/9/2013 11:10:38 PM            </td><td>3/9/2013 11:14:59 PM            </td><td>1                               </td><td> 261                            </td><td>1.5                             </td><td>-73.98669                       </td><td>40.74947                        </td><td>-73.99068                       </td><td>40.76252                        </td></tr>\n",
       "\t<tr><td>00005007A9F30E289E760362F69E4EAD</td><td>A9AE329EA1138052DAC8FDFD8BA86603</td><td>CMT                             </td><td>1                               </td><td>N                               </td><td>3/10/2013 12:32:28 AM           </td><td>3/10/2013 12:57:12 AM           </td><td>3                               </td><td>1484                            </td><td>2.3                             </td><td>-73.97337                       </td><td>40.74757                        </td><td>-73.98941                       </td><td>40.71875                        </td></tr>\n",
       "</tbody>\n",
       "</table>\n"
      ],
      "text/latex": [
       "\\begin{tabular}{r|llllllllllllll}\n",
       " medallion & hack\\_license & vendor\\_id & rate\\_code & store\\_and\\_fwd\\_flag & pickup\\_datetime & dropoff\\_datetime & passenger\\_count & trip\\_time\\_in\\_secs & trip\\_distance & pickup\\_longitude & pickup\\_latitude & dropoff\\_longitude & dropoff\\_latitude\\\\\n",
       "\\hline\n",
       "\t 00005007A9F30E289E760362F69E4EAD & A9AE329EA1138052DAC8FDFD8BA86603 & CMT                              & 1                                & N                                & 3/8/2013 9:55:27 PM              & 3/8/2013 10:05:59 PM             & 2                                &  631                             & 2.5                              & -73.95961                        & 40.71594                         & -73.96342                        & 40.69217                        \\\\\n",
       "\t 00005007A9F30E289E760362F69E4EAD & A9AE329EA1138052DAC8FDFD8BA86603 & CMT                              & 1                                & N                                & 3/9/2013 6:51:52 PM              & 3/9/2013 7:02:59 PM              & 2                                &  666                             & 1.8                              & -73.97337                        & 40.76396                         & -73.97730                        & 40.78214                        \\\\\n",
       "\t 00005007A9F30E289E760362F69E4EAD & A9AE329EA1138052DAC8FDFD8BA86603 & CMT                              & 1                                & N                                & 3/9/2013 7:04:35 PM              & 3/9/2013 7:27:57 PM              & 2                                & 1401                             & 4.4                              & -73.97784                        & 40.78282                         & -74.00089                        & 40.73708                        \\\\\n",
       "\t 00005007A9F30E289E760362F69E4EAD & A9AE329EA1138052DAC8FDFD8BA86603 & CMT                              & 1                                & N                                & 3/9/2013 8:33:06 PM              & 3/9/2013 8:45:38 PM              & 1                                &  751                             & 2.8                              & -73.98033                        & 40.78438                         & -73.98429                        & 40.74869                        \\\\\n",
       "\t 00005007A9F30E289E760362F69E4EAD & A9AE329EA1138052DAC8FDFD8BA86603 & CMT                              & 1                                & N                                & 3/9/2013 11:10:38 PM             & 3/9/2013 11:14:59 PM             & 1                                &  261                             & 1.5                              & -73.98669                        & 40.74947                         & -73.99068                        & 40.76252                        \\\\\n",
       "\t 00005007A9F30E289E760362F69E4EAD & A9AE329EA1138052DAC8FDFD8BA86603 & CMT                              & 1                                & N                                & 3/10/2013 12:32:28 AM            & 3/10/2013 12:57:12 AM            & 3                                & 1484                             & 2.3                              & -73.97337                        & 40.74757                         & -73.98941                        & 40.71875                        \\\\\n",
       "\\end{tabular}\n"
      ],
      "text/markdown": [
       "\n",
       "medallion | hack_license | vendor_id | rate_code | store_and_fwd_flag | pickup_datetime | dropoff_datetime | passenger_count | trip_time_in_secs | trip_distance | pickup_longitude | pickup_latitude | dropoff_longitude | dropoff_latitude | \n",
       "|---|---|---|---|---|---|\n",
       "| 00005007A9F30E289E760362F69E4EAD | A9AE329EA1138052DAC8FDFD8BA86603 | CMT                              | 1                                | N                                | 3/8/2013 9:55:27 PM              | 3/8/2013 10:05:59 PM             | 2                                |  631                             | 2.5                              | -73.95961                        | 40.71594                         | -73.96342                        | 40.69217                         | \n",
       "| 00005007A9F30E289E760362F69E4EAD | A9AE329EA1138052DAC8FDFD8BA86603 | CMT                              | 1                                | N                                | 3/9/2013 6:51:52 PM              | 3/9/2013 7:02:59 PM              | 2                                |  666                             | 1.8                              | -73.97337                        | 40.76396                         | -73.97730                        | 40.78214                         | \n",
       "| 00005007A9F30E289E760362F69E4EAD | A9AE329EA1138052DAC8FDFD8BA86603 | CMT                              | 1                                | N                                | 3/9/2013 7:04:35 PM              | 3/9/2013 7:27:57 PM              | 2                                | 1401                             | 4.4                              | -73.97784                        | 40.78282                         | -74.00089                        | 40.73708                         | \n",
       "| 00005007A9F30E289E760362F69E4EAD | A9AE329EA1138052DAC8FDFD8BA86603 | CMT                              | 1                                | N                                | 3/9/2013 8:33:06 PM              | 3/9/2013 8:45:38 PM              | 1                                |  751                             | 2.8                              | -73.98033                        | 40.78438                         | -73.98429                        | 40.74869                         | \n",
       "| 00005007A9F30E289E760362F69E4EAD | A9AE329EA1138052DAC8FDFD8BA86603 | CMT                              | 1                                | N                                | 3/9/2013 11:10:38 PM             | 3/9/2013 11:14:59 PM             | 1                                |  261                             | 1.5                              | -73.98669                        | 40.74947                         | -73.99068                        | 40.76252                         | \n",
       "| 00005007A9F30E289E760362F69E4EAD | A9AE329EA1138052DAC8FDFD8BA86603 | CMT                              | 1                                | N                                | 3/10/2013 12:32:28 AM            | 3/10/2013 12:57:12 AM            | 3                                | 1484                             | 2.3                              | -73.97337                        | 40.74757                         | -73.98941                        | 40.71875                         | \n",
       "\n",
       "\n"
      ],
      "text/plain": [
       "  medallion                        hack_license                     vendor_id\n",
       "1 00005007A9F30E289E760362F69E4EAD A9AE329EA1138052DAC8FDFD8BA86603 CMT      \n",
       "2 00005007A9F30E289E760362F69E4EAD A9AE329EA1138052DAC8FDFD8BA86603 CMT      \n",
       "3 00005007A9F30E289E760362F69E4EAD A9AE329EA1138052DAC8FDFD8BA86603 CMT      \n",
       "4 00005007A9F30E289E760362F69E4EAD A9AE329EA1138052DAC8FDFD8BA86603 CMT      \n",
       "5 00005007A9F30E289E760362F69E4EAD A9AE329EA1138052DAC8FDFD8BA86603 CMT      \n",
       "6 00005007A9F30E289E760362F69E4EAD A9AE329EA1138052DAC8FDFD8BA86603 CMT      \n",
       "  rate_code store_and_fwd_flag pickup_datetime       dropoff_datetime     \n",
       "1 1         N                  3/8/2013 9:55:27 PM   3/8/2013 10:05:59 PM \n",
       "2 1         N                  3/9/2013 6:51:52 PM   3/9/2013 7:02:59 PM  \n",
       "3 1         N                  3/9/2013 7:04:35 PM   3/9/2013 7:27:57 PM  \n",
       "4 1         N                  3/9/2013 8:33:06 PM   3/9/2013 8:45:38 PM  \n",
       "5 1         N                  3/9/2013 11:10:38 PM  3/9/2013 11:14:59 PM \n",
       "6 1         N                  3/10/2013 12:32:28 AM 3/10/2013 12:57:12 AM\n",
       "  passenger_count trip_time_in_secs trip_distance pickup_longitude\n",
       "1 2                631              2.5           -73.95961       \n",
       "2 2                666              1.8           -73.97337       \n",
       "3 2               1401              4.4           -73.97784       \n",
       "4 1                751              2.8           -73.98033       \n",
       "5 1                261              1.5           -73.98669       \n",
       "6 3               1484              2.3           -73.97337       \n",
       "  pickup_latitude dropoff_longitude dropoff_latitude\n",
       "1 40.71594        -73.96342         40.69217        \n",
       "2 40.76396        -73.97730         40.78214        \n",
       "3 40.78282        -74.00089         40.73708        \n",
       "4 40.78438        -73.98429         40.74869        \n",
       "5 40.74947        -73.99068         40.76252        \n",
       "6 40.74757        -73.98941         40.71875        "
      ]
     },
     "metadata": {},
     "output_type": "display_data"
    }
   ],
   "source": [
    "dim(trip)\n",
    "summary(trip)\n",
    "head(trip)"
   ]
  },
  {
   "cell_type": "markdown",
   "metadata": {},
   "source": [
    "## Reformat the Pick-Up and Drop-Off Date/Time Values"
   ]
  },
  {
   "cell_type": "code",
   "execution_count": 4,
   "metadata": {},
   "outputs": [
    {
     "data": {
      "text/html": [
       "<ol class=list-inline>\n",
       "\t<li>'medallion'</li>\n",
       "\t<li>'hack_license'</li>\n",
       "\t<li>'vendor_id'</li>\n",
       "\t<li>'rate_code'</li>\n",
       "\t<li>'store_and_fwd_flag'</li>\n",
       "\t<li>'pickup_datetime'</li>\n",
       "\t<li>'dropoff_datetime'</li>\n",
       "\t<li>'passenger_count'</li>\n",
       "\t<li>'trip_time_in_secs'</li>\n",
       "\t<li>'trip_distance'</li>\n",
       "\t<li>'pickup_longitude'</li>\n",
       "\t<li>'pickup_latitude'</li>\n",
       "\t<li>'dropoff_longitude'</li>\n",
       "\t<li>'dropoff_latitude'</li>\n",
       "</ol>\n"
      ],
      "text/latex": [
       "\\begin{enumerate*}\n",
       "\\item 'medallion'\n",
       "\\item 'hack\\_license'\n",
       "\\item 'vendor\\_id'\n",
       "\\item 'rate\\_code'\n",
       "\\item 'store\\_and\\_fwd\\_flag'\n",
       "\\item 'pickup\\_datetime'\n",
       "\\item 'dropoff\\_datetime'\n",
       "\\item 'passenger\\_count'\n",
       "\\item 'trip\\_time\\_in\\_secs'\n",
       "\\item 'trip\\_distance'\n",
       "\\item 'pickup\\_longitude'\n",
       "\\item 'pickup\\_latitude'\n",
       "\\item 'dropoff\\_longitude'\n",
       "\\item 'dropoff\\_latitude'\n",
       "\\end{enumerate*}\n"
      ],
      "text/markdown": [
       "1. 'medallion'\n",
       "2. 'hack_license'\n",
       "3. 'vendor_id'\n",
       "4. 'rate_code'\n",
       "5. 'store_and_fwd_flag'\n",
       "6. 'pickup_datetime'\n",
       "7. 'dropoff_datetime'\n",
       "8. 'passenger_count'\n",
       "9. 'trip_time_in_secs'\n",
       "10. 'trip_distance'\n",
       "11. 'pickup_longitude'\n",
       "12. 'pickup_latitude'\n",
       "13. 'dropoff_longitude'\n",
       "14. 'dropoff_latitude'\n",
       "\n",
       "\n"
      ],
      "text/plain": [
       " [1] \"medallion\"          \"hack_license\"       \"vendor_id\"         \n",
       " [4] \"rate_code\"          \"store_and_fwd_flag\" \"pickup_datetime\"   \n",
       " [7] \"dropoff_datetime\"   \"passenger_count\"    \"trip_time_in_secs\" \n",
       "[10] \"trip_distance\"      \"pickup_longitude\"   \"pickup_latitude\"   \n",
       "[13] \"dropoff_longitude\"  \"dropoff_latitude\"  "
      ]
     },
     "metadata": {},
     "output_type": "display_data"
    },
    {
     "data": {
      "text/html": [
       "<table>\n",
       "<thead><tr><th scope=col>pu_DT</th><th scope=col>do_DT</th></tr></thead>\n",
       "<tbody>\n",
       "\t<tr><td>3/8/2013 9:55:27 PM  </td><td>3/8/2013 10:05:59 PM </td></tr>\n",
       "\t<tr><td>3/9/2013 6:51:52 PM  </td><td>3/9/2013 7:02:59 PM  </td></tr>\n",
       "\t<tr><td>3/9/2013 7:04:35 PM  </td><td>3/9/2013 7:27:57 PM  </td></tr>\n",
       "\t<tr><td>3/9/2013 8:33:06 PM  </td><td>3/9/2013 8:45:38 PM  </td></tr>\n",
       "\t<tr><td>3/9/2013 11:10:38 PM </td><td>3/9/2013 11:14:59 PM </td></tr>\n",
       "\t<tr><td>3/10/2013 12:32:28 AM</td><td>3/10/2013 12:57:12 AM</td></tr>\n",
       "</tbody>\n",
       "</table>\n"
      ],
      "text/latex": [
       "\\begin{tabular}{r|ll}\n",
       " pu\\_DT & do\\_DT\\\\\n",
       "\\hline\n",
       "\t 3/8/2013 9:55:27 PM   & 3/8/2013 10:05:59 PM \\\\\n",
       "\t 3/9/2013 6:51:52 PM   & 3/9/2013 7:02:59 PM  \\\\\n",
       "\t 3/9/2013 7:04:35 PM   & 3/9/2013 7:27:57 PM  \\\\\n",
       "\t 3/9/2013 8:33:06 PM   & 3/9/2013 8:45:38 PM  \\\\\n",
       "\t 3/9/2013 11:10:38 PM  & 3/9/2013 11:14:59 PM \\\\\n",
       "\t 3/10/2013 12:32:28 AM & 3/10/2013 12:57:12 AM\\\\\n",
       "\\end{tabular}\n"
      ],
      "text/markdown": [
       "\n",
       "pu_DT | do_DT | \n",
       "|---|---|---|---|---|---|\n",
       "| 3/8/2013 9:55:27 PM   | 3/8/2013 10:05:59 PM  | \n",
       "| 3/9/2013 6:51:52 PM   | 3/9/2013 7:02:59 PM   | \n",
       "| 3/9/2013 7:04:35 PM   | 3/9/2013 7:27:57 PM   | \n",
       "| 3/9/2013 8:33:06 PM   | 3/9/2013 8:45:38 PM   | \n",
       "| 3/9/2013 11:10:38 PM  | 3/9/2013 11:14:59 PM  | \n",
       "| 3/10/2013 12:32:28 AM | 3/10/2013 12:57:12 AM | \n",
       "\n",
       "\n"
      ],
      "text/plain": [
       "  pu_DT                 do_DT                \n",
       "1 3/8/2013 9:55:27 PM   3/8/2013 10:05:59 PM \n",
       "2 3/9/2013 6:51:52 PM   3/9/2013 7:02:59 PM  \n",
       "3 3/9/2013 7:04:35 PM   3/9/2013 7:27:57 PM  \n",
       "4 3/9/2013 8:33:06 PM   3/9/2013 8:45:38 PM  \n",
       "5 3/9/2013 11:10:38 PM  3/9/2013 11:14:59 PM \n",
       "6 3/10/2013 12:32:28 AM 3/10/2013 12:57:12 AM"
      ]
     },
     "metadata": {},
     "output_type": "display_data"
    },
    {
     "data": {
      "text/html": [
       "'factor'"
      ],
      "text/latex": [
       "'factor'"
      ],
      "text/markdown": [
       "'factor'"
      ],
      "text/plain": [
       "[1] \"factor\""
      ]
     },
     "metadata": {},
     "output_type": "display_data"
    }
   ],
   "source": [
    "colnames(trip)\n",
    "trip$pu_DT <- trip$pickup_datetime #copy the original date/time columns\n",
    "trip$do_DT <- trip$dropoff_datetime\n",
    "head(trip[ , c(\"pu_DT\", \"do_DT\")])\n",
    "class(trip$pu_DT)"
   ]
  },
  {
   "cell_type": "code",
   "execution_count": 5,
   "metadata": {},
   "outputs": [
    {
     "data": {
      "text/html": [
       "'character'"
      ],
      "text/latex": [
       "'character'"
      ],
      "text/markdown": [
       "'character'"
      ],
      "text/plain": [
       "[1] \"character\""
      ]
     },
     "metadata": {},
     "output_type": "display_data"
    }
   ],
   "source": [
    "trip$pu_DT <- as.character(trip$pu_DT) #convert the copied columns to strings\n",
    "trip$do_DT <- as.character(trip$do_DT)\n",
    "class(trip$do_DT)"
   ]
  },
  {
   "cell_type": "code",
   "execution_count": 6,
   "metadata": {},
   "outputs": [
    {
     "data": {
      "text/html": [
       "<table>\n",
       "<thead><tr><th scope=col>pu_DT</th><th scope=col>do_DT</th><th scope=col>pickUp_dateString</th><th scope=col>dropOff_dateString</th></tr></thead>\n",
       "<tbody>\n",
       "\t<tr><td>3/8/2013 9:55:27 PM  </td><td>3/8/2013 10:05:59 PM </td><td>3/8/2013             </td><td>3/8/2013             </td></tr>\n",
       "\t<tr><td>3/9/2013 6:51:52 PM  </td><td>3/9/2013 7:02:59 PM  </td><td>3/9/2013             </td><td>3/9/2013             </td></tr>\n",
       "\t<tr><td>3/9/2013 7:04:35 PM  </td><td>3/9/2013 7:27:57 PM  </td><td>3/9/2013             </td><td>3/9/2013             </td></tr>\n",
       "\t<tr><td>3/9/2013 8:33:06 PM  </td><td>3/9/2013 8:45:38 PM  </td><td>3/9/2013             </td><td>3/9/2013             </td></tr>\n",
       "\t<tr><td>3/9/2013 11:10:38 PM </td><td>3/9/2013 11:14:59 PM </td><td>3/9/2013             </td><td>3/9/2013             </td></tr>\n",
       "\t<tr><td>3/10/2013 12:32:28 AM</td><td>3/10/2013 12:57:12 AM</td><td>3/10/2013            </td><td>3/10/2013            </td></tr>\n",
       "</tbody>\n",
       "</table>\n"
      ],
      "text/latex": [
       "\\begin{tabular}{r|llll}\n",
       " pu\\_DT & do\\_DT & pickUp\\_dateString & dropOff\\_dateString\\\\\n",
       "\\hline\n",
       "\t 3/8/2013 9:55:27 PM   & 3/8/2013 10:05:59 PM  & 3/8/2013              & 3/8/2013             \\\\\n",
       "\t 3/9/2013 6:51:52 PM   & 3/9/2013 7:02:59 PM   & 3/9/2013              & 3/9/2013             \\\\\n",
       "\t 3/9/2013 7:04:35 PM   & 3/9/2013 7:27:57 PM   & 3/9/2013              & 3/9/2013             \\\\\n",
       "\t 3/9/2013 8:33:06 PM   & 3/9/2013 8:45:38 PM   & 3/9/2013              & 3/9/2013             \\\\\n",
       "\t 3/9/2013 11:10:38 PM  & 3/9/2013 11:14:59 PM  & 3/9/2013              & 3/9/2013             \\\\\n",
       "\t 3/10/2013 12:32:28 AM & 3/10/2013 12:57:12 AM & 3/10/2013             & 3/10/2013            \\\\\n",
       "\\end{tabular}\n"
      ],
      "text/markdown": [
       "\n",
       "pu_DT | do_DT | pickUp_dateString | dropOff_dateString | \n",
       "|---|---|---|---|---|---|\n",
       "| 3/8/2013 9:55:27 PM   | 3/8/2013 10:05:59 PM  | 3/8/2013              | 3/8/2013              | \n",
       "| 3/9/2013 6:51:52 PM   | 3/9/2013 7:02:59 PM   | 3/9/2013              | 3/9/2013              | \n",
       "| 3/9/2013 7:04:35 PM   | 3/9/2013 7:27:57 PM   | 3/9/2013              | 3/9/2013              | \n",
       "| 3/9/2013 8:33:06 PM   | 3/9/2013 8:45:38 PM   | 3/9/2013              | 3/9/2013              | \n",
       "| 3/9/2013 11:10:38 PM  | 3/9/2013 11:14:59 PM  | 3/9/2013              | 3/9/2013              | \n",
       "| 3/10/2013 12:32:28 AM | 3/10/2013 12:57:12 AM | 3/10/2013             | 3/10/2013             | \n",
       "\n",
       "\n"
      ],
      "text/plain": [
       "  pu_DT                 do_DT                 pickUp_dateString\n",
       "1 3/8/2013 9:55:27 PM   3/8/2013 10:05:59 PM  3/8/2013         \n",
       "2 3/9/2013 6:51:52 PM   3/9/2013 7:02:59 PM   3/9/2013         \n",
       "3 3/9/2013 7:04:35 PM   3/9/2013 7:27:57 PM   3/9/2013         \n",
       "4 3/9/2013 8:33:06 PM   3/9/2013 8:45:38 PM   3/9/2013         \n",
       "5 3/9/2013 11:10:38 PM  3/9/2013 11:14:59 PM  3/9/2013         \n",
       "6 3/10/2013 12:32:28 AM 3/10/2013 12:57:12 AM 3/10/2013        \n",
       "  dropOff_dateString\n",
       "1 3/8/2013          \n",
       "2 3/9/2013          \n",
       "3 3/9/2013          \n",
       "4 3/9/2013          \n",
       "5 3/9/2013          \n",
       "6 3/10/2013         "
      ]
     },
     "metadata": {},
     "output_type": "display_data"
    }
   ],
   "source": [
    "trip$pickUp_dateString <- gsub(\" .*$\", \"\", trip$pu_DT) #use regex substitution to isolate the event date\n",
    "trip$dropOff_dateString <- gsub(\" .*$\", \"\", trip$do_DT)\n",
    "head(trip[ , (ncol(trip)-3):(ncol(trip))])"
   ]
  },
  {
   "cell_type": "code",
   "execution_count": 7,
   "metadata": {},
   "outputs": [
    {
     "data": {
      "text/html": [
       "<table>\n",
       "<thead><tr><th scope=col>pu_DT</th><th scope=col>do_DT</th><th scope=col>pu_fullTimeString</th><th scope=col>do_fullTimeString</th></tr></thead>\n",
       "<tbody>\n",
       "\t<tr><td>3/8/2013 9:55:27 PM  </td><td>3/8/2013 10:05:59 PM </td><td>9:55:27 PM           </td><td>10:05:59 PM          </td></tr>\n",
       "\t<tr><td>3/9/2013 6:51:52 PM  </td><td>3/9/2013 7:02:59 PM  </td><td>6:51:52 PM           </td><td>7:02:59 PM           </td></tr>\n",
       "\t<tr><td>3/9/2013 7:04:35 PM  </td><td>3/9/2013 7:27:57 PM  </td><td>7:04:35 PM           </td><td>7:27:57 PM           </td></tr>\n",
       "\t<tr><td>3/9/2013 8:33:06 PM  </td><td>3/9/2013 8:45:38 PM  </td><td>8:33:06 PM           </td><td>8:45:38 PM           </td></tr>\n",
       "\t<tr><td>3/9/2013 11:10:38 PM </td><td>3/9/2013 11:14:59 PM </td><td>11:10:38 PM          </td><td>11:14:59 PM          </td></tr>\n",
       "\t<tr><td>3/10/2013 12:32:28 AM</td><td>3/10/2013 12:57:12 AM</td><td>12:32:28 AM          </td><td>12:57:12 AM          </td></tr>\n",
       "</tbody>\n",
       "</table>\n"
      ],
      "text/latex": [
       "\\begin{tabular}{r|llll}\n",
       " pu\\_DT & do\\_DT & pu\\_fullTimeString & do\\_fullTimeString\\\\\n",
       "\\hline\n",
       "\t 3/8/2013 9:55:27 PM   & 3/8/2013 10:05:59 PM  & 9:55:27 PM            & 10:05:59 PM          \\\\\n",
       "\t 3/9/2013 6:51:52 PM   & 3/9/2013 7:02:59 PM   & 6:51:52 PM            & 7:02:59 PM           \\\\\n",
       "\t 3/9/2013 7:04:35 PM   & 3/9/2013 7:27:57 PM   & 7:04:35 PM            & 7:27:57 PM           \\\\\n",
       "\t 3/9/2013 8:33:06 PM   & 3/9/2013 8:45:38 PM   & 8:33:06 PM            & 8:45:38 PM           \\\\\n",
       "\t 3/9/2013 11:10:38 PM  & 3/9/2013 11:14:59 PM  & 11:10:38 PM           & 11:14:59 PM          \\\\\n",
       "\t 3/10/2013 12:32:28 AM & 3/10/2013 12:57:12 AM & 12:32:28 AM           & 12:57:12 AM          \\\\\n",
       "\\end{tabular}\n"
      ],
      "text/markdown": [
       "\n",
       "pu_DT | do_DT | pu_fullTimeString | do_fullTimeString | \n",
       "|---|---|---|---|---|---|\n",
       "| 3/8/2013 9:55:27 PM   | 3/8/2013 10:05:59 PM  | 9:55:27 PM            | 10:05:59 PM           | \n",
       "| 3/9/2013 6:51:52 PM   | 3/9/2013 7:02:59 PM   | 6:51:52 PM            | 7:02:59 PM            | \n",
       "| 3/9/2013 7:04:35 PM   | 3/9/2013 7:27:57 PM   | 7:04:35 PM            | 7:27:57 PM            | \n",
       "| 3/9/2013 8:33:06 PM   | 3/9/2013 8:45:38 PM   | 8:33:06 PM            | 8:45:38 PM            | \n",
       "| 3/9/2013 11:10:38 PM  | 3/9/2013 11:14:59 PM  | 11:10:38 PM           | 11:14:59 PM           | \n",
       "| 3/10/2013 12:32:28 AM | 3/10/2013 12:57:12 AM | 12:32:28 AM           | 12:57:12 AM           | \n",
       "\n",
       "\n"
      ],
      "text/plain": [
       "  pu_DT                 do_DT                 pu_fullTimeString\n",
       "1 3/8/2013 9:55:27 PM   3/8/2013 10:05:59 PM  9:55:27 PM       \n",
       "2 3/9/2013 6:51:52 PM   3/9/2013 7:02:59 PM   6:51:52 PM       \n",
       "3 3/9/2013 7:04:35 PM   3/9/2013 7:27:57 PM   7:04:35 PM       \n",
       "4 3/9/2013 8:33:06 PM   3/9/2013 8:45:38 PM   8:33:06 PM       \n",
       "5 3/9/2013 11:10:38 PM  3/9/2013 11:14:59 PM  11:10:38 PM      \n",
       "6 3/10/2013 12:32:28 AM 3/10/2013 12:57:12 AM 12:32:28 AM      \n",
       "  do_fullTimeString\n",
       "1 10:05:59 PM      \n",
       "2 7:02:59 PM       \n",
       "3 7:27:57 PM       \n",
       "4 8:45:38 PM       \n",
       "5 11:14:59 PM      \n",
       "6 12:57:12 AM      "
      ]
     },
     "metadata": {},
     "output_type": "display_data"
    }
   ],
   "source": [
    "trip$pu_fullTimeString <- gsub(\"^.*? \", \"\", trip$pu_DT) #use regex substitution to isolate the event time\n",
    "trip$do_fullTimeString <- gsub(\"^.*? \", \"\", trip$do_DT)\n",
    "n = ncol(trip)\n",
    "head(trip[ , c(n-5, n-4, n-1, n)])"
   ]
  },
  {
   "cell_type": "code",
   "execution_count": 8,
   "metadata": {},
   "outputs": [
    {
     "data": {
      "text/html": [
       "<table>\n",
       "<thead><tr><th scope=col>pu_DT</th><th scope=col>do_DT</th><th scope=col>pickUp_dateString</th><th scope=col>dropOff_dateString</th><th scope=col>pu_fullTimeString</th><th scope=col>do_fullTimeString</th><th scope=col>pu_binnedTime</th><th scope=col>do_binnedTime</th></tr></thead>\n",
       "<tbody>\n",
       "\t<tr><td>3/8/2013 9:55:27 PM  </td><td>3/8/2013 10:05:59 PM </td><td>3/8/2013             </td><td>3/8/2013             </td><td>9:55:27 PM           </td><td>10:05:59 PM          </td><td>9:55:27              </td><td>10:05:59             </td></tr>\n",
       "\t<tr><td>3/9/2013 6:51:52 PM  </td><td>3/9/2013 7:02:59 PM  </td><td>3/9/2013             </td><td>3/9/2013             </td><td>6:51:52 PM           </td><td>7:02:59 PM           </td><td>6:51:52              </td><td>7:02:59              </td></tr>\n",
       "\t<tr><td>3/9/2013 7:04:35 PM  </td><td>3/9/2013 7:27:57 PM  </td><td>3/9/2013             </td><td>3/9/2013             </td><td>7:04:35 PM           </td><td>7:27:57 PM           </td><td>7:04:35              </td><td>7:27:57              </td></tr>\n",
       "\t<tr><td>3/9/2013 8:33:06 PM  </td><td>3/9/2013 8:45:38 PM  </td><td>3/9/2013             </td><td>3/9/2013             </td><td>8:33:06 PM           </td><td>8:45:38 PM           </td><td>8:33:06              </td><td>8:45:38              </td></tr>\n",
       "\t<tr><td>3/9/2013 11:10:38 PM </td><td>3/9/2013 11:14:59 PM </td><td>3/9/2013             </td><td>3/9/2013             </td><td>11:10:38 PM          </td><td>11:14:59 PM          </td><td>11:10:38             </td><td>11:14:59             </td></tr>\n",
       "\t<tr><td>3/10/2013 12:32:28 AM</td><td>3/10/2013 12:57:12 AM</td><td>3/10/2013            </td><td>3/10/2013            </td><td>12:32:28 AM          </td><td>12:57:12 AM          </td><td>12:32:28             </td><td>12:57:12             </td></tr>\n",
       "</tbody>\n",
       "</table>\n"
      ],
      "text/latex": [
       "\\begin{tabular}{r|llllllll}\n",
       " pu\\_DT & do\\_DT & pickUp\\_dateString & dropOff\\_dateString & pu\\_fullTimeString & do\\_fullTimeString & pu\\_binnedTime & do\\_binnedTime\\\\\n",
       "\\hline\n",
       "\t 3/8/2013 9:55:27 PM   & 3/8/2013 10:05:59 PM  & 3/8/2013              & 3/8/2013              & 9:55:27 PM            & 10:05:59 PM           & 9:55:27               & 10:05:59             \\\\\n",
       "\t 3/9/2013 6:51:52 PM   & 3/9/2013 7:02:59 PM   & 3/9/2013              & 3/9/2013              & 6:51:52 PM            & 7:02:59 PM            & 6:51:52               & 7:02:59              \\\\\n",
       "\t 3/9/2013 7:04:35 PM   & 3/9/2013 7:27:57 PM   & 3/9/2013              & 3/9/2013              & 7:04:35 PM            & 7:27:57 PM            & 7:04:35               & 7:27:57              \\\\\n",
       "\t 3/9/2013 8:33:06 PM   & 3/9/2013 8:45:38 PM   & 3/9/2013              & 3/9/2013              & 8:33:06 PM            & 8:45:38 PM            & 8:33:06               & 8:45:38              \\\\\n",
       "\t 3/9/2013 11:10:38 PM  & 3/9/2013 11:14:59 PM  & 3/9/2013              & 3/9/2013              & 11:10:38 PM           & 11:14:59 PM           & 11:10:38              & 11:14:59             \\\\\n",
       "\t 3/10/2013 12:32:28 AM & 3/10/2013 12:57:12 AM & 3/10/2013             & 3/10/2013             & 12:32:28 AM           & 12:57:12 AM           & 12:32:28              & 12:57:12             \\\\\n",
       "\\end{tabular}\n"
      ],
      "text/markdown": [
       "\n",
       "pu_DT | do_DT | pickUp_dateString | dropOff_dateString | pu_fullTimeString | do_fullTimeString | pu_binnedTime | do_binnedTime | \n",
       "|---|---|---|---|---|---|\n",
       "| 3/8/2013 9:55:27 PM   | 3/8/2013 10:05:59 PM  | 3/8/2013              | 3/8/2013              | 9:55:27 PM            | 10:05:59 PM           | 9:55:27               | 10:05:59              | \n",
       "| 3/9/2013 6:51:52 PM   | 3/9/2013 7:02:59 PM   | 3/9/2013              | 3/9/2013              | 6:51:52 PM            | 7:02:59 PM            | 6:51:52               | 7:02:59               | \n",
       "| 3/9/2013 7:04:35 PM   | 3/9/2013 7:27:57 PM   | 3/9/2013              | 3/9/2013              | 7:04:35 PM            | 7:27:57 PM            | 7:04:35               | 7:27:57               | \n",
       "| 3/9/2013 8:33:06 PM   | 3/9/2013 8:45:38 PM   | 3/9/2013              | 3/9/2013              | 8:33:06 PM            | 8:45:38 PM            | 8:33:06               | 8:45:38               | \n",
       "| 3/9/2013 11:10:38 PM  | 3/9/2013 11:14:59 PM  | 3/9/2013              | 3/9/2013              | 11:10:38 PM           | 11:14:59 PM           | 11:10:38              | 11:14:59              | \n",
       "| 3/10/2013 12:32:28 AM | 3/10/2013 12:57:12 AM | 3/10/2013             | 3/10/2013             | 12:32:28 AM           | 12:57:12 AM           | 12:32:28              | 12:57:12              | \n",
       "\n",
       "\n"
      ],
      "text/plain": [
       "  pu_DT                 do_DT                 pickUp_dateString\n",
       "1 3/8/2013 9:55:27 PM   3/8/2013 10:05:59 PM  3/8/2013         \n",
       "2 3/9/2013 6:51:52 PM   3/9/2013 7:02:59 PM   3/9/2013         \n",
       "3 3/9/2013 7:04:35 PM   3/9/2013 7:27:57 PM   3/9/2013         \n",
       "4 3/9/2013 8:33:06 PM   3/9/2013 8:45:38 PM   3/9/2013         \n",
       "5 3/9/2013 11:10:38 PM  3/9/2013 11:14:59 PM  3/9/2013         \n",
       "6 3/10/2013 12:32:28 AM 3/10/2013 12:57:12 AM 3/10/2013        \n",
       "  dropOff_dateString pu_fullTimeString do_fullTimeString pu_binnedTime\n",
       "1 3/8/2013           9:55:27 PM        10:05:59 PM       9:55:27      \n",
       "2 3/9/2013           6:51:52 PM        7:02:59 PM        6:51:52      \n",
       "3 3/9/2013           7:04:35 PM        7:27:57 PM        7:04:35      \n",
       "4 3/9/2013           8:33:06 PM        8:45:38 PM        8:33:06      \n",
       "5 3/9/2013           11:10:38 PM       11:14:59 PM       11:10:38     \n",
       "6 3/10/2013          12:32:28 AM       12:57:12 AM       12:32:28     \n",
       "  do_binnedTime\n",
       "1 10:05:59     \n",
       "2 7:02:59      \n",
       "3 7:27:57      \n",
       "4 8:45:38      \n",
       "5 11:14:59     \n",
       "6 12:57:12     "
      ]
     },
     "metadata": {},
     "output_type": "display_data"
    }
   ],
   "source": [
    "trip$pu_binnedTime <- gsub(\" .*$\", \"\", trip$pu_fullTimeString) #isolate numeric time from am/pm\n",
    "trip$do_binnedTime <- gsub(\" .*$\", \"\", trip$do_fullTimeString)\n",
    "head(trip[ , (n-5):(n+2)])"
   ]
  },
  {
   "cell_type": "code",
   "execution_count": 9,
   "metadata": {},
   "outputs": [
    {
     "data": {
      "text/html": [
       "<table>\n",
       "<thead><tr><th scope=col>pu_DT</th><th scope=col>do_DT</th><th scope=col>pickUp_dateString</th><th scope=col>dropOff_dateString</th><th scope=col>pu_fullTimeString</th><th scope=col>do_fullTimeString</th><th scope=col>pu_binnedTime</th><th scope=col>do_binnedTime</th></tr></thead>\n",
       "<tbody>\n",
       "\t<tr><td>3/8/2013 9:55:27 PM  </td><td>3/8/2013 10:05:59 PM </td><td>3/8/2013             </td><td>3/8/2013             </td><td>9:55:27 PM           </td><td>10:05:59 PM          </td><td>9                    </td><td>10                   </td></tr>\n",
       "\t<tr><td>3/9/2013 6:51:52 PM  </td><td>3/9/2013 7:02:59 PM  </td><td>3/9/2013             </td><td>3/9/2013             </td><td>6:51:52 PM           </td><td>7:02:59 PM           </td><td>6                    </td><td>7                    </td></tr>\n",
       "\t<tr><td>3/9/2013 7:04:35 PM  </td><td>3/9/2013 7:27:57 PM  </td><td>3/9/2013             </td><td>3/9/2013             </td><td>7:04:35 PM           </td><td>7:27:57 PM           </td><td>7                    </td><td>7                    </td></tr>\n",
       "\t<tr><td>3/9/2013 8:33:06 PM  </td><td>3/9/2013 8:45:38 PM  </td><td>3/9/2013             </td><td>3/9/2013             </td><td>8:33:06 PM           </td><td>8:45:38 PM           </td><td>8                    </td><td>8                    </td></tr>\n",
       "\t<tr><td>3/9/2013 11:10:38 PM </td><td>3/9/2013 11:14:59 PM </td><td>3/9/2013             </td><td>3/9/2013             </td><td>11:10:38 PM          </td><td>11:14:59 PM          </td><td>11                   </td><td>11                   </td></tr>\n",
       "\t<tr><td>3/10/2013 12:32:28 AM</td><td>3/10/2013 12:57:12 AM</td><td>3/10/2013            </td><td>3/10/2013            </td><td>12:32:28 AM          </td><td>12:57:12 AM          </td><td>12                   </td><td>12                   </td></tr>\n",
       "</tbody>\n",
       "</table>\n"
      ],
      "text/latex": [
       "\\begin{tabular}{r|llllllll}\n",
       " pu\\_DT & do\\_DT & pickUp\\_dateString & dropOff\\_dateString & pu\\_fullTimeString & do\\_fullTimeString & pu\\_binnedTime & do\\_binnedTime\\\\\n",
       "\\hline\n",
       "\t 3/8/2013 9:55:27 PM   & 3/8/2013 10:05:59 PM  & 3/8/2013              & 3/8/2013              & 9:55:27 PM            & 10:05:59 PM           & 9                     & 10                   \\\\\n",
       "\t 3/9/2013 6:51:52 PM   & 3/9/2013 7:02:59 PM   & 3/9/2013              & 3/9/2013              & 6:51:52 PM            & 7:02:59 PM            & 6                     & 7                    \\\\\n",
       "\t 3/9/2013 7:04:35 PM   & 3/9/2013 7:27:57 PM   & 3/9/2013              & 3/9/2013              & 7:04:35 PM            & 7:27:57 PM            & 7                     & 7                    \\\\\n",
       "\t 3/9/2013 8:33:06 PM   & 3/9/2013 8:45:38 PM   & 3/9/2013              & 3/9/2013              & 8:33:06 PM            & 8:45:38 PM            & 8                     & 8                    \\\\\n",
       "\t 3/9/2013 11:10:38 PM  & 3/9/2013 11:14:59 PM  & 3/9/2013              & 3/9/2013              & 11:10:38 PM           & 11:14:59 PM           & 11                    & 11                   \\\\\n",
       "\t 3/10/2013 12:32:28 AM & 3/10/2013 12:57:12 AM & 3/10/2013             & 3/10/2013             & 12:32:28 AM           & 12:57:12 AM           & 12                    & 12                   \\\\\n",
       "\\end{tabular}\n"
      ],
      "text/markdown": [
       "\n",
       "pu_DT | do_DT | pickUp_dateString | dropOff_dateString | pu_fullTimeString | do_fullTimeString | pu_binnedTime | do_binnedTime | \n",
       "|---|---|---|---|---|---|\n",
       "| 3/8/2013 9:55:27 PM   | 3/8/2013 10:05:59 PM  | 3/8/2013              | 3/8/2013              | 9:55:27 PM            | 10:05:59 PM           | 9                     | 10                    | \n",
       "| 3/9/2013 6:51:52 PM   | 3/9/2013 7:02:59 PM   | 3/9/2013              | 3/9/2013              | 6:51:52 PM            | 7:02:59 PM            | 6                     | 7                     | \n",
       "| 3/9/2013 7:04:35 PM   | 3/9/2013 7:27:57 PM   | 3/9/2013              | 3/9/2013              | 7:04:35 PM            | 7:27:57 PM            | 7                     | 7                     | \n",
       "| 3/9/2013 8:33:06 PM   | 3/9/2013 8:45:38 PM   | 3/9/2013              | 3/9/2013              | 8:33:06 PM            | 8:45:38 PM            | 8                     | 8                     | \n",
       "| 3/9/2013 11:10:38 PM  | 3/9/2013 11:14:59 PM  | 3/9/2013              | 3/9/2013              | 11:10:38 PM           | 11:14:59 PM           | 11                    | 11                    | \n",
       "| 3/10/2013 12:32:28 AM | 3/10/2013 12:57:12 AM | 3/10/2013             | 3/10/2013             | 12:32:28 AM           | 12:57:12 AM           | 12                    | 12                    | \n",
       "\n",
       "\n"
      ],
      "text/plain": [
       "  pu_DT                 do_DT                 pickUp_dateString\n",
       "1 3/8/2013 9:55:27 PM   3/8/2013 10:05:59 PM  3/8/2013         \n",
       "2 3/9/2013 6:51:52 PM   3/9/2013 7:02:59 PM   3/9/2013         \n",
       "3 3/9/2013 7:04:35 PM   3/9/2013 7:27:57 PM   3/9/2013         \n",
       "4 3/9/2013 8:33:06 PM   3/9/2013 8:45:38 PM   3/9/2013         \n",
       "5 3/9/2013 11:10:38 PM  3/9/2013 11:14:59 PM  3/9/2013         \n",
       "6 3/10/2013 12:32:28 AM 3/10/2013 12:57:12 AM 3/10/2013        \n",
       "  dropOff_dateString pu_fullTimeString do_fullTimeString pu_binnedTime\n",
       "1 3/8/2013           9:55:27 PM        10:05:59 PM       9            \n",
       "2 3/9/2013           6:51:52 PM        7:02:59 PM        6            \n",
       "3 3/9/2013           7:04:35 PM        7:27:57 PM        7            \n",
       "4 3/9/2013           8:33:06 PM        8:45:38 PM        8            \n",
       "5 3/9/2013           11:10:38 PM       11:14:59 PM       11           \n",
       "6 3/10/2013          12:32:28 AM       12:57:12 AM       12           \n",
       "  do_binnedTime\n",
       "1 10           \n",
       "2 7            \n",
       "3 7            \n",
       "4 8            \n",
       "5 11           \n",
       "6 12           "
      ]
     },
     "metadata": {},
     "output_type": "display_data"
    }
   ],
   "source": [
    "trip$pu_binnedTime <- gsub(\":.*$\", \"\", trip$pu_binnedTime) #reduce to just the hour 'bin' for the event occurence\n",
    "trip$do_binnedTime <- gsub(\":.*$\", \"\", trip$do_binnedTime)\n",
    "head(trip[ , (n-5):(n+2)])"
   ]
  },
  {
   "cell_type": "code",
   "execution_count": 10,
   "metadata": {},
   "outputs": [
    {
     "data": {
      "text/html": [
       "<table>\n",
       "<thead><tr><th scope=col>pu_DT</th><th scope=col>do_DT</th><th scope=col>pu_fullTimeString</th><th scope=col>do_fullTimeString</th><th scope=col>pu_binnedTime</th><th scope=col>do_binnedTime</th><th scope=col>pu_amPM</th><th scope=col>do_amPM</th></tr></thead>\n",
       "<tbody>\n",
       "\t<tr><td>3/8/2013 9:55:27 PM  </td><td>3/8/2013 10:05:59 PM </td><td>9:55:27 PM           </td><td>10:05:59 PM          </td><td>9                    </td><td>10                   </td><td>PM                   </td><td>PM                   </td></tr>\n",
       "\t<tr><td>3/9/2013 6:51:52 PM  </td><td>3/9/2013 7:02:59 PM  </td><td>6:51:52 PM           </td><td>7:02:59 PM           </td><td>6                    </td><td>7                    </td><td>PM                   </td><td>PM                   </td></tr>\n",
       "\t<tr><td>3/9/2013 7:04:35 PM  </td><td>3/9/2013 7:27:57 PM  </td><td>7:04:35 PM           </td><td>7:27:57 PM           </td><td>7                    </td><td>7                    </td><td>PM                   </td><td>PM                   </td></tr>\n",
       "\t<tr><td>3/9/2013 8:33:06 PM  </td><td>3/9/2013 8:45:38 PM  </td><td>8:33:06 PM           </td><td>8:45:38 PM           </td><td>8                    </td><td>8                    </td><td>PM                   </td><td>PM                   </td></tr>\n",
       "\t<tr><td>3/9/2013 11:10:38 PM </td><td>3/9/2013 11:14:59 PM </td><td>11:10:38 PM          </td><td>11:14:59 PM          </td><td>11                   </td><td>11                   </td><td>PM                   </td><td>PM                   </td></tr>\n",
       "\t<tr><td>3/10/2013 12:32:28 AM</td><td>3/10/2013 12:57:12 AM</td><td>12:32:28 AM          </td><td>12:57:12 AM          </td><td>12                   </td><td>12                   </td><td>AM                   </td><td>AM                   </td></tr>\n",
       "</tbody>\n",
       "</table>\n"
      ],
      "text/latex": [
       "\\begin{tabular}{r|llllllll}\n",
       " pu\\_DT & do\\_DT & pu\\_fullTimeString & do\\_fullTimeString & pu\\_binnedTime & do\\_binnedTime & pu\\_amPM & do\\_amPM\\\\\n",
       "\\hline\n",
       "\t 3/8/2013 9:55:27 PM   & 3/8/2013 10:05:59 PM  & 9:55:27 PM            & 10:05:59 PM           & 9                     & 10                    & PM                    & PM                   \\\\\n",
       "\t 3/9/2013 6:51:52 PM   & 3/9/2013 7:02:59 PM   & 6:51:52 PM            & 7:02:59 PM            & 6                     & 7                     & PM                    & PM                   \\\\\n",
       "\t 3/9/2013 7:04:35 PM   & 3/9/2013 7:27:57 PM   & 7:04:35 PM            & 7:27:57 PM            & 7                     & 7                     & PM                    & PM                   \\\\\n",
       "\t 3/9/2013 8:33:06 PM   & 3/9/2013 8:45:38 PM   & 8:33:06 PM            & 8:45:38 PM            & 8                     & 8                     & PM                    & PM                   \\\\\n",
       "\t 3/9/2013 11:10:38 PM  & 3/9/2013 11:14:59 PM  & 11:10:38 PM           & 11:14:59 PM           & 11                    & 11                    & PM                    & PM                   \\\\\n",
       "\t 3/10/2013 12:32:28 AM & 3/10/2013 12:57:12 AM & 12:32:28 AM           & 12:57:12 AM           & 12                    & 12                    & AM                    & AM                   \\\\\n",
       "\\end{tabular}\n"
      ],
      "text/markdown": [
       "\n",
       "pu_DT | do_DT | pu_fullTimeString | do_fullTimeString | pu_binnedTime | do_binnedTime | pu_amPM | do_amPM | \n",
       "|---|---|---|---|---|---|\n",
       "| 3/8/2013 9:55:27 PM   | 3/8/2013 10:05:59 PM  | 9:55:27 PM            | 10:05:59 PM           | 9                     | 10                    | PM                    | PM                    | \n",
       "| 3/9/2013 6:51:52 PM   | 3/9/2013 7:02:59 PM   | 6:51:52 PM            | 7:02:59 PM            | 6                     | 7                     | PM                    | PM                    | \n",
       "| 3/9/2013 7:04:35 PM   | 3/9/2013 7:27:57 PM   | 7:04:35 PM            | 7:27:57 PM            | 7                     | 7                     | PM                    | PM                    | \n",
       "| 3/9/2013 8:33:06 PM   | 3/9/2013 8:45:38 PM   | 8:33:06 PM            | 8:45:38 PM            | 8                     | 8                     | PM                    | PM                    | \n",
       "| 3/9/2013 11:10:38 PM  | 3/9/2013 11:14:59 PM  | 11:10:38 PM           | 11:14:59 PM           | 11                    | 11                    | PM                    | PM                    | \n",
       "| 3/10/2013 12:32:28 AM | 3/10/2013 12:57:12 AM | 12:32:28 AM           | 12:57:12 AM           | 12                    | 12                    | AM                    | AM                    | \n",
       "\n",
       "\n"
      ],
      "text/plain": [
       "  pu_DT                 do_DT                 pu_fullTimeString\n",
       "1 3/8/2013 9:55:27 PM   3/8/2013 10:05:59 PM  9:55:27 PM       \n",
       "2 3/9/2013 6:51:52 PM   3/9/2013 7:02:59 PM   6:51:52 PM       \n",
       "3 3/9/2013 7:04:35 PM   3/9/2013 7:27:57 PM   7:04:35 PM       \n",
       "4 3/9/2013 8:33:06 PM   3/9/2013 8:45:38 PM   8:33:06 PM       \n",
       "5 3/9/2013 11:10:38 PM  3/9/2013 11:14:59 PM  11:10:38 PM      \n",
       "6 3/10/2013 12:32:28 AM 3/10/2013 12:57:12 AM 12:32:28 AM      \n",
       "  do_fullTimeString pu_binnedTime do_binnedTime pu_amPM do_amPM\n",
       "1 10:05:59 PM       9             10            PM      PM     \n",
       "2 7:02:59 PM        6             7             PM      PM     \n",
       "3 7:27:57 PM        7             7             PM      PM     \n",
       "4 8:45:38 PM        8             8             PM      PM     \n",
       "5 11:14:59 PM       11            11            PM      PM     \n",
       "6 12:57:12 AM       12            12            AM      AM     "
      ]
     },
     "metadata": {},
     "output_type": "display_data"
    }
   ],
   "source": [
    "trip$pu_amPM <- gsub(\"^.* \", \"\", trip$pu_fullTimeString)  # use regex to isolate AM/PM values\n",
    "trip$do_amPM <- gsub(\"^.* \", \"\", trip$do_fullTimeString)\n",
    "head(trip[ , c(n-5, n-4, n-1, n, n+1, n+2, n+3, n+4)])"
   ]
  },
  {
   "cell_type": "code",
   "execution_count": 11,
   "metadata": {
    "collapsed": true
   },
   "outputs": [],
   "source": [
    "trip$pu_binnedTime <- as.numeric(trip$pu_binnedTime) # convert \"binned time\" columns to numeric type\n",
    "trip$do_binnedTime <- as.numeric(trip$do_binnedTime)\n",
    "\n",
    "# for pickup/dropoff times after noon (12 pm) and before midnight (12 AM), add 12 to the binned time value \n",
    "#     e.g. 1 PM => 13 and 8 PM => 20\n",
    "trip[trip$pu_amPM == \"PM\" & \n",
    "                trip$pu_binnedTime >= 1 & \n",
    "                trip$pu_binnedTime <= 11, ]$pu_binnedTime <- \n",
    "                lapply(trip[trip$pu_amPM == \"PM\" & \n",
    "                        trip$pu_binnedTime >= 1 & \n",
    "                        trip$pu_binnedTime <= 11, ]$pu_binnedTime, \n",
    "                        function(x) x+12)\n",
    "                            \n",
    "trip[trip$do_amPM == \"PM\" & \n",
    "                trip$do_binnedTime >= 1 & \n",
    "                trip$do_binnedTime <= 11, ]$do_binnedTime <- \n",
    "                lapply(trip[trip$do_amPM == \"PM\" & \n",
    "                        trip$do_binnedTime >= 1 & \n",
    "                        trip$do_binnedTime <= 11, ]$do_binnedTime, \n",
    "                        function(x) x+12)"
   ]
  },
  {
   "cell_type": "code",
   "execution_count": 12,
   "metadata": {},
   "outputs": [
    {
     "data": {
      "text/html": [
       "<table>\n",
       "<thead><tr><th scope=col>pu_fullTimeString</th><th scope=col>do_fullTimeString</th><th scope=col>pu_binnedTime</th><th scope=col>do_binnedTime</th><th scope=col>pu_amPM</th><th scope=col>do_amPM</th></tr></thead>\n",
       "<tbody>\n",
       "\t<tr><td>9:55:27 PM </td><td>10:05:59 PM</td><td>21         </td><td>22         </td><td>PM         </td><td>PM         </td></tr>\n",
       "\t<tr><td>6:51:52 PM </td><td>7:02:59 PM </td><td>18         </td><td>19         </td><td>PM         </td><td>PM         </td></tr>\n",
       "\t<tr><td>7:04:35 PM </td><td>7:27:57 PM </td><td>19         </td><td>19         </td><td>PM         </td><td>PM         </td></tr>\n",
       "\t<tr><td>8:33:06 PM </td><td>8:45:38 PM </td><td>20         </td><td>20         </td><td>PM         </td><td>PM         </td></tr>\n",
       "\t<tr><td>11:10:38 PM</td><td>11:14:59 PM</td><td>23         </td><td>23         </td><td>PM         </td><td>PM         </td></tr>\n",
       "\t<tr><td>12:32:28 AM</td><td>12:57:12 AM</td><td>12         </td><td>12         </td><td>AM         </td><td>AM         </td></tr>\n",
       "</tbody>\n",
       "</table>\n"
      ],
      "text/latex": [
       "\\begin{tabular}{r|llllll}\n",
       " pu\\_fullTimeString & do\\_fullTimeString & pu\\_binnedTime & do\\_binnedTime & pu\\_amPM & do\\_amPM\\\\\n",
       "\\hline\n",
       "\t 9:55:27 PM  & 10:05:59 PM & 21          & 22          & PM          & PM         \\\\\n",
       "\t 6:51:52 PM  & 7:02:59 PM  & 18          & 19          & PM          & PM         \\\\\n",
       "\t 7:04:35 PM  & 7:27:57 PM  & 19          & 19          & PM          & PM         \\\\\n",
       "\t 8:33:06 PM  & 8:45:38 PM  & 20          & 20          & PM          & PM         \\\\\n",
       "\t 11:10:38 PM & 11:14:59 PM & 23          & 23          & PM          & PM         \\\\\n",
       "\t 12:32:28 AM & 12:57:12 AM & 12          & 12          & AM          & AM         \\\\\n",
       "\\end{tabular}\n"
      ],
      "text/markdown": [
       "\n",
       "pu_fullTimeString | do_fullTimeString | pu_binnedTime | do_binnedTime | pu_amPM | do_amPM | \n",
       "|---|---|---|---|---|---|\n",
       "| 9:55:27 PM  | 10:05:59 PM | 21          | 22          | PM          | PM          | \n",
       "| 6:51:52 PM  | 7:02:59 PM  | 18          | 19          | PM          | PM          | \n",
       "| 7:04:35 PM  | 7:27:57 PM  | 19          | 19          | PM          | PM          | \n",
       "| 8:33:06 PM  | 8:45:38 PM  | 20          | 20          | PM          | PM          | \n",
       "| 11:10:38 PM | 11:14:59 PM | 23          | 23          | PM          | PM          | \n",
       "| 12:32:28 AM | 12:57:12 AM | 12          | 12          | AM          | AM          | \n",
       "\n",
       "\n"
      ],
      "text/plain": [
       "  pu_fullTimeString do_fullTimeString pu_binnedTime do_binnedTime pu_amPM\n",
       "1 9:55:27 PM        10:05:59 PM       21            22            PM     \n",
       "2 6:51:52 PM        7:02:59 PM        18            19            PM     \n",
       "3 7:04:35 PM        7:27:57 PM        19            19            PM     \n",
       "4 8:33:06 PM        8:45:38 PM        20            20            PM     \n",
       "5 11:10:38 PM       11:14:59 PM       23            23            PM     \n",
       "6 12:32:28 AM       12:57:12 AM       12            12            AM     \n",
       "  do_amPM\n",
       "1 PM     \n",
       "2 PM     \n",
       "3 PM     \n",
       "4 PM     \n",
       "5 PM     \n",
       "6 AM     "
      ]
     },
     "metadata": {},
     "output_type": "display_data"
    }
   ],
   "source": [
    "head(trip[ , (n-1):ncol(trip)])"
   ]
  },
  {
   "cell_type": "code",
   "execution_count": 13,
   "metadata": {
    "collapsed": true
   },
   "outputs": [],
   "source": [
    "# for pickup/dropoff times occurring during the midnight (12AM - 1AM) bin, \n",
    "#    convert the binnedTime value to 0\n",
    "\n",
    "trip[trip$pu_amPM == \"AM\" & \n",
    "       trip$pu_binnedTime == 12, ]$pu_binnedTime <- 0\n",
    "trip[trip$do_amPM == \"AM\" & \n",
    "       trip$do_binnedTime == 12, ]$do_binnedTime <- 0"
   ]
  },
  {
   "cell_type": "code",
   "execution_count": 14,
   "metadata": {},
   "outputs": [
    {
     "data": {
      "text/html": [
       "<table>\n",
       "<thead><tr><th scope=col>pu_fullTimeString</th><th scope=col>do_fullTimeString</th><th scope=col>pu_binnedTime</th><th scope=col>do_binnedTime</th><th scope=col>pu_amPM</th><th scope=col>do_amPM</th></tr></thead>\n",
       "<tbody>\n",
       "\t<tr><td>9:55:27 PM </td><td>10:05:59 PM</td><td>21         </td><td>22         </td><td>PM         </td><td>PM         </td></tr>\n",
       "\t<tr><td>6:51:52 PM </td><td>7:02:59 PM </td><td>18         </td><td>19         </td><td>PM         </td><td>PM         </td></tr>\n",
       "\t<tr><td>7:04:35 PM </td><td>7:27:57 PM </td><td>19         </td><td>19         </td><td>PM         </td><td>PM         </td></tr>\n",
       "\t<tr><td>8:33:06 PM </td><td>8:45:38 PM </td><td>20         </td><td>20         </td><td>PM         </td><td>PM         </td></tr>\n",
       "\t<tr><td>11:10:38 PM</td><td>11:14:59 PM</td><td>23         </td><td>23         </td><td>PM         </td><td>PM         </td></tr>\n",
       "\t<tr><td>12:32:28 AM</td><td>12:57:12 AM</td><td>0          </td><td>0          </td><td>AM         </td><td>AM         </td></tr>\n",
       "</tbody>\n",
       "</table>\n"
      ],
      "text/latex": [
       "\\begin{tabular}{r|llllll}\n",
       " pu\\_fullTimeString & do\\_fullTimeString & pu\\_binnedTime & do\\_binnedTime & pu\\_amPM & do\\_amPM\\\\\n",
       "\\hline\n",
       "\t 9:55:27 PM  & 10:05:59 PM & 21          & 22          & PM          & PM         \\\\\n",
       "\t 6:51:52 PM  & 7:02:59 PM  & 18          & 19          & PM          & PM         \\\\\n",
       "\t 7:04:35 PM  & 7:27:57 PM  & 19          & 19          & PM          & PM         \\\\\n",
       "\t 8:33:06 PM  & 8:45:38 PM  & 20          & 20          & PM          & PM         \\\\\n",
       "\t 11:10:38 PM & 11:14:59 PM & 23          & 23          & PM          & PM         \\\\\n",
       "\t 12:32:28 AM & 12:57:12 AM & 0           & 0           & AM          & AM         \\\\\n",
       "\\end{tabular}\n"
      ],
      "text/markdown": [
       "\n",
       "pu_fullTimeString | do_fullTimeString | pu_binnedTime | do_binnedTime | pu_amPM | do_amPM | \n",
       "|---|---|---|---|---|---|\n",
       "| 9:55:27 PM  | 10:05:59 PM | 21          | 22          | PM          | PM          | \n",
       "| 6:51:52 PM  | 7:02:59 PM  | 18          | 19          | PM          | PM          | \n",
       "| 7:04:35 PM  | 7:27:57 PM  | 19          | 19          | PM          | PM          | \n",
       "| 8:33:06 PM  | 8:45:38 PM  | 20          | 20          | PM          | PM          | \n",
       "| 11:10:38 PM | 11:14:59 PM | 23          | 23          | PM          | PM          | \n",
       "| 12:32:28 AM | 12:57:12 AM | 0           | 0           | AM          | AM          | \n",
       "\n",
       "\n"
      ],
      "text/plain": [
       "  pu_fullTimeString do_fullTimeString pu_binnedTime do_binnedTime pu_amPM\n",
       "1 9:55:27 PM        10:05:59 PM       21            22            PM     \n",
       "2 6:51:52 PM        7:02:59 PM        18            19            PM     \n",
       "3 7:04:35 PM        7:27:57 PM        19            19            PM     \n",
       "4 8:33:06 PM        8:45:38 PM        20            20            PM     \n",
       "5 11:10:38 PM       11:14:59 PM       23            23            PM     \n",
       "6 12:32:28 AM       12:57:12 AM       0             0             AM     \n",
       "  do_amPM\n",
       "1 PM     \n",
       "2 PM     \n",
       "3 PM     \n",
       "4 PM     \n",
       "5 PM     \n",
       "6 AM     "
      ]
     },
     "metadata": {},
     "output_type": "display_data"
    }
   ],
   "source": [
    "head(trip[ , (n-1):ncol(trip)])"
   ]
  },
  {
   "cell_type": "code",
   "execution_count": 15,
   "metadata": {},
   "outputs": [
    {
     "data": {
      "text/html": [
       "<table>\n",
       "<thead><tr><th scope=col>pu_fullTimeString</th><th scope=col>do_fullTimeString</th><th scope=col>pu_binnedTime</th><th scope=col>do_binnedTime</th><th scope=col>pu_amPM</th><th scope=col>do_amPM</th><th scope=col>pickUp_Hour</th><th scope=col>dropOff_Hour</th></tr></thead>\n",
       "<tbody>\n",
       "\t<tr><td>9:55:27 PM </td><td>10:05:59 PM</td><td>21         </td><td>22         </td><td>PM         </td><td>PM         </td><td>21         </td><td>22         </td></tr>\n",
       "\t<tr><td>6:51:52 PM </td><td>7:02:59 PM </td><td>18         </td><td>19         </td><td>PM         </td><td>PM         </td><td>18         </td><td>19         </td></tr>\n",
       "\t<tr><td>7:04:35 PM </td><td>7:27:57 PM </td><td>19         </td><td>19         </td><td>PM         </td><td>PM         </td><td>19         </td><td>19         </td></tr>\n",
       "\t<tr><td>8:33:06 PM </td><td>8:45:38 PM </td><td>20         </td><td>20         </td><td>PM         </td><td>PM         </td><td>20         </td><td>20         </td></tr>\n",
       "\t<tr><td>11:10:38 PM</td><td>11:14:59 PM</td><td>23         </td><td>23         </td><td>PM         </td><td>PM         </td><td>23         </td><td>23         </td></tr>\n",
       "\t<tr><td>12:32:28 AM</td><td>12:57:12 AM</td><td>0          </td><td>0          </td><td>AM         </td><td>AM         </td><td>00         </td><td>00         </td></tr>\n",
       "</tbody>\n",
       "</table>\n"
      ],
      "text/latex": [
       "\\begin{tabular}{r|llllllll}\n",
       " pu\\_fullTimeString & do\\_fullTimeString & pu\\_binnedTime & do\\_binnedTime & pu\\_amPM & do\\_amPM & pickUp\\_Hour & dropOff\\_Hour\\\\\n",
       "\\hline\n",
       "\t 9:55:27 PM  & 10:05:59 PM & 21          & 22          & PM          & PM          & 21          & 22         \\\\\n",
       "\t 6:51:52 PM  & 7:02:59 PM  & 18          & 19          & PM          & PM          & 18          & 19         \\\\\n",
       "\t 7:04:35 PM  & 7:27:57 PM  & 19          & 19          & PM          & PM          & 19          & 19         \\\\\n",
       "\t 8:33:06 PM  & 8:45:38 PM  & 20          & 20          & PM          & PM          & 20          & 20         \\\\\n",
       "\t 11:10:38 PM & 11:14:59 PM & 23          & 23          & PM          & PM          & 23          & 23         \\\\\n",
       "\t 12:32:28 AM & 12:57:12 AM & 0           & 0           & AM          & AM          & 00          & 00         \\\\\n",
       "\\end{tabular}\n"
      ],
      "text/markdown": [
       "\n",
       "pu_fullTimeString | do_fullTimeString | pu_binnedTime | do_binnedTime | pu_amPM | do_amPM | pickUp_Hour | dropOff_Hour | \n",
       "|---|---|---|---|---|---|\n",
       "| 9:55:27 PM  | 10:05:59 PM | 21          | 22          | PM          | PM          | 21          | 22          | \n",
       "| 6:51:52 PM  | 7:02:59 PM  | 18          | 19          | PM          | PM          | 18          | 19          | \n",
       "| 7:04:35 PM  | 7:27:57 PM  | 19          | 19          | PM          | PM          | 19          | 19          | \n",
       "| 8:33:06 PM  | 8:45:38 PM  | 20          | 20          | PM          | PM          | 20          | 20          | \n",
       "| 11:10:38 PM | 11:14:59 PM | 23          | 23          | PM          | PM          | 23          | 23          | \n",
       "| 12:32:28 AM | 12:57:12 AM | 0           | 0           | AM          | AM          | 00          | 00          | \n",
       "\n",
       "\n"
      ],
      "text/plain": [
       "  pu_fullTimeString do_fullTimeString pu_binnedTime do_binnedTime pu_amPM\n",
       "1 9:55:27 PM        10:05:59 PM       21            22            PM     \n",
       "2 6:51:52 PM        7:02:59 PM        18            19            PM     \n",
       "3 7:04:35 PM        7:27:57 PM        19            19            PM     \n",
       "4 8:33:06 PM        8:45:38 PM        20            20            PM     \n",
       "5 11:10:38 PM       11:14:59 PM       23            23            PM     \n",
       "6 12:32:28 AM       12:57:12 AM       0             0             AM     \n",
       "  do_amPM pickUp_Hour dropOff_Hour\n",
       "1 PM      21          22          \n",
       "2 PM      18          19          \n",
       "3 PM      19          19          \n",
       "4 PM      20          20          \n",
       "5 PM      23          23          \n",
       "6 AM      00          00          "
      ]
     },
     "metadata": {},
     "output_type": "display_data"
    }
   ],
   "source": [
    "# create string-type columns with binned time, adding a \"0\" before single character 'bins'\n",
    "trip$pickUp_Hour <- as.character(trip$pu_binnedTime)\n",
    "trip$dropOff_Hour <- as.character(trip$do_binnedTime)\n",
    "\n",
    "trip$pickUp_Hour <- gsub(\"^(\\\\d)$\", \"0\\\\1\", trip$pickUp_Hour)\n",
    "trip$dropOff_Hour <- gsub(\"^(\\\\d)$\", \"0\\\\1\", trip$dropOff_Hour)\n",
    "head(trip[ , (n-1):ncol(trip)])"
   ]
  },
  {
   "cell_type": "code",
   "execution_count": 16,
   "metadata": {
    "collapsed": true
   },
   "outputs": [],
   "source": [
    "# convert pickUp/dropOff_Hour to factor; create pickUp/dropOff_Date columns as factors\n",
    "trip$pickUp_Hour <- as.factor(trip$pickUp_Hour)\n",
    "trip$dropOff_Hour <- as.factor(trip$dropOff_Hour)\n",
    "\n",
    "trip$pickUp_Date <- as.factor(trip$pickUp_dateString)\n",
    "trip$dropOff_Date <- as.factor(trip$dropOff_dateString)"
   ]
  },
  {
   "cell_type": "code",
   "execution_count": 17,
   "metadata": {},
   "outputs": [
    {
     "data": {
      "text/html": [
       "<ol class=list-inline>\n",
       "\t<li>'medallion'</li>\n",
       "\t<li>'hack_license'</li>\n",
       "\t<li>'vendor_id'</li>\n",
       "\t<li>'rate_code'</li>\n",
       "\t<li>'store_and_fwd_flag'</li>\n",
       "\t<li>'pickup_datetime'</li>\n",
       "\t<li>'dropoff_datetime'</li>\n",
       "\t<li>'passenger_count'</li>\n",
       "\t<li>'trip_time_in_secs'</li>\n",
       "\t<li>'trip_distance'</li>\n",
       "\t<li>'pickup_longitude'</li>\n",
       "\t<li>'pickup_latitude'</li>\n",
       "\t<li>'dropoff_longitude'</li>\n",
       "\t<li>'dropoff_latitude'</li>\n",
       "\t<li>'pu_DT'</li>\n",
       "\t<li>'do_DT'</li>\n",
       "\t<li>'pickUp_dateString'</li>\n",
       "\t<li>'dropOff_dateString'</li>\n",
       "\t<li>'pu_fullTimeString'</li>\n",
       "\t<li>'do_fullTimeString'</li>\n",
       "\t<li>'pu_binnedTime'</li>\n",
       "\t<li>'do_binnedTime'</li>\n",
       "\t<li>'pu_amPM'</li>\n",
       "\t<li>'do_amPM'</li>\n",
       "\t<li>'pickUp_Hour'</li>\n",
       "\t<li>'dropOff_Hour'</li>\n",
       "\t<li>'pickUp_Date'</li>\n",
       "\t<li>'dropOff_Date'</li>\n",
       "</ol>\n"
      ],
      "text/latex": [
       "\\begin{enumerate*}\n",
       "\\item 'medallion'\n",
       "\\item 'hack\\_license'\n",
       "\\item 'vendor\\_id'\n",
       "\\item 'rate\\_code'\n",
       "\\item 'store\\_and\\_fwd\\_flag'\n",
       "\\item 'pickup\\_datetime'\n",
       "\\item 'dropoff\\_datetime'\n",
       "\\item 'passenger\\_count'\n",
       "\\item 'trip\\_time\\_in\\_secs'\n",
       "\\item 'trip\\_distance'\n",
       "\\item 'pickup\\_longitude'\n",
       "\\item 'pickup\\_latitude'\n",
       "\\item 'dropoff\\_longitude'\n",
       "\\item 'dropoff\\_latitude'\n",
       "\\item 'pu\\_DT'\n",
       "\\item 'do\\_DT'\n",
       "\\item 'pickUp\\_dateString'\n",
       "\\item 'dropOff\\_dateString'\n",
       "\\item 'pu\\_fullTimeString'\n",
       "\\item 'do\\_fullTimeString'\n",
       "\\item 'pu\\_binnedTime'\n",
       "\\item 'do\\_binnedTime'\n",
       "\\item 'pu\\_amPM'\n",
       "\\item 'do\\_amPM'\n",
       "\\item 'pickUp\\_Hour'\n",
       "\\item 'dropOff\\_Hour'\n",
       "\\item 'pickUp\\_Date'\n",
       "\\item 'dropOff\\_Date'\n",
       "\\end{enumerate*}\n"
      ],
      "text/markdown": [
       "1. 'medallion'\n",
       "2. 'hack_license'\n",
       "3. 'vendor_id'\n",
       "4. 'rate_code'\n",
       "5. 'store_and_fwd_flag'\n",
       "6. 'pickup_datetime'\n",
       "7. 'dropoff_datetime'\n",
       "8. 'passenger_count'\n",
       "9. 'trip_time_in_secs'\n",
       "10. 'trip_distance'\n",
       "11. 'pickup_longitude'\n",
       "12. 'pickup_latitude'\n",
       "13. 'dropoff_longitude'\n",
       "14. 'dropoff_latitude'\n",
       "15. 'pu_DT'\n",
       "16. 'do_DT'\n",
       "17. 'pickUp_dateString'\n",
       "18. 'dropOff_dateString'\n",
       "19. 'pu_fullTimeString'\n",
       "20. 'do_fullTimeString'\n",
       "21. 'pu_binnedTime'\n",
       "22. 'do_binnedTime'\n",
       "23. 'pu_amPM'\n",
       "24. 'do_amPM'\n",
       "25. 'pickUp_Hour'\n",
       "26. 'dropOff_Hour'\n",
       "27. 'pickUp_Date'\n",
       "28. 'dropOff_Date'\n",
       "\n",
       "\n"
      ],
      "text/plain": [
       " [1] \"medallion\"          \"hack_license\"       \"vendor_id\"         \n",
       " [4] \"rate_code\"          \"store_and_fwd_flag\" \"pickup_datetime\"   \n",
       " [7] \"dropoff_datetime\"   \"passenger_count\"    \"trip_time_in_secs\" \n",
       "[10] \"trip_distance\"      \"pickup_longitude\"   \"pickup_latitude\"   \n",
       "[13] \"dropoff_longitude\"  \"dropoff_latitude\"   \"pu_DT\"             \n",
       "[16] \"do_DT\"              \"pickUp_dateString\"  \"dropOff_dateString\"\n",
       "[19] \"pu_fullTimeString\"  \"do_fullTimeString\"  \"pu_binnedTime\"     \n",
       "[22] \"do_binnedTime\"      \"pu_amPM\"            \"do_amPM\"           \n",
       "[25] \"pickUp_Hour\"        \"dropOff_Hour\"       \"pickUp_Date\"       \n",
       "[28] \"dropOff_Date\"      "
      ]
     },
     "metadata": {},
     "output_type": "display_data"
    },
    {
     "data": {
      "text/html": [
       "<table>\n",
       "<thead><tr><th scope=col>pu_fullTimeString</th><th scope=col>do_fullTimeString</th><th scope=col>pu_binnedTime</th><th scope=col>do_binnedTime</th><th scope=col>pu_amPM</th><th scope=col>do_amPM</th><th scope=col>pickUp_Hour</th><th scope=col>dropOff_Hour</th><th scope=col>pickUp_Date</th><th scope=col>dropOff_Date</th></tr></thead>\n",
       "<tbody>\n",
       "\t<tr><td>9:55:27 PM </td><td>10:05:59 PM</td><td>21         </td><td>22         </td><td>PM         </td><td>PM         </td><td>21         </td><td>22         </td><td>3/8/2013   </td><td>3/8/2013   </td></tr>\n",
       "\t<tr><td>6:51:52 PM </td><td>7:02:59 PM </td><td>18         </td><td>19         </td><td>PM         </td><td>PM         </td><td>18         </td><td>19         </td><td>3/9/2013   </td><td>3/9/2013   </td></tr>\n",
       "\t<tr><td>7:04:35 PM </td><td>7:27:57 PM </td><td>19         </td><td>19         </td><td>PM         </td><td>PM         </td><td>19         </td><td>19         </td><td>3/9/2013   </td><td>3/9/2013   </td></tr>\n",
       "\t<tr><td>8:33:06 PM </td><td>8:45:38 PM </td><td>20         </td><td>20         </td><td>PM         </td><td>PM         </td><td>20         </td><td>20         </td><td>3/9/2013   </td><td>3/9/2013   </td></tr>\n",
       "\t<tr><td>11:10:38 PM</td><td>11:14:59 PM</td><td>23         </td><td>23         </td><td>PM         </td><td>PM         </td><td>23         </td><td>23         </td><td>3/9/2013   </td><td>3/9/2013   </td></tr>\n",
       "\t<tr><td>12:32:28 AM</td><td>12:57:12 AM</td><td>0          </td><td>0          </td><td>AM         </td><td>AM         </td><td>00         </td><td>00         </td><td>3/10/2013  </td><td>3/10/2013  </td></tr>\n",
       "</tbody>\n",
       "</table>\n"
      ],
      "text/latex": [
       "\\begin{tabular}{r|llllllllll}\n",
       " pu\\_fullTimeString & do\\_fullTimeString & pu\\_binnedTime & do\\_binnedTime & pu\\_amPM & do\\_amPM & pickUp\\_Hour & dropOff\\_Hour & pickUp\\_Date & dropOff\\_Date\\\\\n",
       "\\hline\n",
       "\t 9:55:27 PM  & 10:05:59 PM & 21          & 22          & PM          & PM          & 21          & 22          & 3/8/2013    & 3/8/2013   \\\\\n",
       "\t 6:51:52 PM  & 7:02:59 PM  & 18          & 19          & PM          & PM          & 18          & 19          & 3/9/2013    & 3/9/2013   \\\\\n",
       "\t 7:04:35 PM  & 7:27:57 PM  & 19          & 19          & PM          & PM          & 19          & 19          & 3/9/2013    & 3/9/2013   \\\\\n",
       "\t 8:33:06 PM  & 8:45:38 PM  & 20          & 20          & PM          & PM          & 20          & 20          & 3/9/2013    & 3/9/2013   \\\\\n",
       "\t 11:10:38 PM & 11:14:59 PM & 23          & 23          & PM          & PM          & 23          & 23          & 3/9/2013    & 3/9/2013   \\\\\n",
       "\t 12:32:28 AM & 12:57:12 AM & 0           & 0           & AM          & AM          & 00          & 00          & 3/10/2013   & 3/10/2013  \\\\\n",
       "\\end{tabular}\n"
      ],
      "text/markdown": [
       "\n",
       "pu_fullTimeString | do_fullTimeString | pu_binnedTime | do_binnedTime | pu_amPM | do_amPM | pickUp_Hour | dropOff_Hour | pickUp_Date | dropOff_Date | \n",
       "|---|---|---|---|---|---|\n",
       "| 9:55:27 PM  | 10:05:59 PM | 21          | 22          | PM          | PM          | 21          | 22          | 3/8/2013    | 3/8/2013    | \n",
       "| 6:51:52 PM  | 7:02:59 PM  | 18          | 19          | PM          | PM          | 18          | 19          | 3/9/2013    | 3/9/2013    | \n",
       "| 7:04:35 PM  | 7:27:57 PM  | 19          | 19          | PM          | PM          | 19          | 19          | 3/9/2013    | 3/9/2013    | \n",
       "| 8:33:06 PM  | 8:45:38 PM  | 20          | 20          | PM          | PM          | 20          | 20          | 3/9/2013    | 3/9/2013    | \n",
       "| 11:10:38 PM | 11:14:59 PM | 23          | 23          | PM          | PM          | 23          | 23          | 3/9/2013    | 3/9/2013    | \n",
       "| 12:32:28 AM | 12:57:12 AM | 0           | 0           | AM          | AM          | 00          | 00          | 3/10/2013   | 3/10/2013   | \n",
       "\n",
       "\n"
      ],
      "text/plain": [
       "  pu_fullTimeString do_fullTimeString pu_binnedTime do_binnedTime pu_amPM\n",
       "1 9:55:27 PM        10:05:59 PM       21            22            PM     \n",
       "2 6:51:52 PM        7:02:59 PM        18            19            PM     \n",
       "3 7:04:35 PM        7:27:57 PM        19            19            PM     \n",
       "4 8:33:06 PM        8:45:38 PM        20            20            PM     \n",
       "5 11:10:38 PM       11:14:59 PM       23            23            PM     \n",
       "6 12:32:28 AM       12:57:12 AM       0             0             AM     \n",
       "  do_amPM pickUp_Hour dropOff_Hour pickUp_Date dropOff_Date\n",
       "1 PM      21          22           3/8/2013    3/8/2013    \n",
       "2 PM      18          19           3/9/2013    3/9/2013    \n",
       "3 PM      19          19           3/9/2013    3/9/2013    \n",
       "4 PM      20          20           3/9/2013    3/9/2013    \n",
       "5 PM      23          23           3/9/2013    3/9/2013    \n",
       "6 AM      00          00           3/10/2013   3/10/2013   "
      ]
     },
     "metadata": {},
     "output_type": "display_data"
    }
   ],
   "source": [
    "colnames(trip)\n",
    "head(trip[ , (n-1):ncol(trip)])"
   ]
  },
  {
   "cell_type": "markdown",
   "metadata": {},
   "source": [
    "## Create Weeday, Holiday, and Time of Day Features"
   ]
  },
  {
   "cell_type": "code",
   "execution_count": 18,
   "metadata": {},
   "outputs": [
    {
     "data": {
      "text/html": [
       "<table>\n",
       "<thead><tr><th scope=col>pickUp_Date</th><th scope=col>dropOff_Date</th><th scope=col>pickUp_Day</th><th scope=col>dropOff_Day</th></tr></thead>\n",
       "<tbody>\n",
       "\t<tr><td>3/8/2013 </td><td>3/8/2013 </td><td>Fri      </td><td>Fri      </td></tr>\n",
       "\t<tr><td>3/9/2013 </td><td>3/9/2013 </td><td>Sat      </td><td>Sat      </td></tr>\n",
       "\t<tr><td>3/9/2013 </td><td>3/9/2013 </td><td>Sat      </td><td>Sat      </td></tr>\n",
       "\t<tr><td>3/9/2013 </td><td>3/9/2013 </td><td>Sat      </td><td>Sat      </td></tr>\n",
       "\t<tr><td>3/9/2013 </td><td>3/9/2013 </td><td>Sat      </td><td>Sat      </td></tr>\n",
       "\t<tr><td>3/10/2013</td><td>3/10/2013</td><td>Sun      </td><td>Sun      </td></tr>\n",
       "</tbody>\n",
       "</table>\n"
      ],
      "text/latex": [
       "\\begin{tabular}{r|llll}\n",
       " pickUp\\_Date & dropOff\\_Date & pickUp\\_Day & dropOff\\_Day\\\\\n",
       "\\hline\n",
       "\t 3/8/2013  & 3/8/2013  & Fri       & Fri      \\\\\n",
       "\t 3/9/2013  & 3/9/2013  & Sat       & Sat      \\\\\n",
       "\t 3/9/2013  & 3/9/2013  & Sat       & Sat      \\\\\n",
       "\t 3/9/2013  & 3/9/2013  & Sat       & Sat      \\\\\n",
       "\t 3/9/2013  & 3/9/2013  & Sat       & Sat      \\\\\n",
       "\t 3/10/2013 & 3/10/2013 & Sun       & Sun      \\\\\n",
       "\\end{tabular}\n"
      ],
      "text/markdown": [
       "\n",
       "pickUp_Date | dropOff_Date | pickUp_Day | dropOff_Day | \n",
       "|---|---|---|---|---|---|\n",
       "| 3/8/2013  | 3/8/2013  | Fri       | Fri       | \n",
       "| 3/9/2013  | 3/9/2013  | Sat       | Sat       | \n",
       "| 3/9/2013  | 3/9/2013  | Sat       | Sat       | \n",
       "| 3/9/2013  | 3/9/2013  | Sat       | Sat       | \n",
       "| 3/9/2013  | 3/9/2013  | Sat       | Sat       | \n",
       "| 3/10/2013 | 3/10/2013 | Sun       | Sun       | \n",
       "\n",
       "\n"
      ],
      "text/plain": [
       "  pickUp_Date dropOff_Date pickUp_Day dropOff_Day\n",
       "1 3/8/2013    3/8/2013     Fri        Fri        \n",
       "2 3/9/2013    3/9/2013     Sat        Sat        \n",
       "3 3/9/2013    3/9/2013     Sat        Sat        \n",
       "4 3/9/2013    3/9/2013     Sat        Sat        \n",
       "5 3/9/2013    3/9/2013     Sat        Sat        \n",
       "6 3/10/2013   3/10/2013    Sun        Sun        "
      ]
     },
     "metadata": {},
     "output_type": "display_data"
    }
   ],
   "source": [
    "trip$pickUp_Day <- wday(as.Date(trip$pickUp_Date, \"%m/%d/%Y\"), label=T) # translate each date into Sun-Sat labels\n",
    "trip$dropOff_Day <- wday(as.Date(trip$dropOff_Date, \"%m/%d/%Y\"), label=T)\n",
    "\n",
    "trip$pickUp_Day <- as.factor(trip$pickUp_Day) # convert to factors\n",
    "trip$dropOff_Day <- as.factor(trip$dropOff_Day)\n",
    "\n",
    "head(trip[ , (ncol(trip) - 3):(ncol(trip))]) # checked: March 8, 2013 was in fact Friday"
   ]
  },
  {
   "cell_type": "code",
   "execution_count": 19,
   "metadata": {},
   "outputs": [
    {
     "data": {
      "text/html": [
       "<table>\n",
       "<thead><tr><th scope=col>pickUp_Date</th><th scope=col>dropOff_Date</th><th scope=col>pickUp_Day</th><th scope=col>dropOff_Day</th><th scope=col>pickUp_isWeekend</th><th scope=col>dropOff_isWeekend</th></tr></thead>\n",
       "<tbody>\n",
       "\t<tr><td>3/8/2013 </td><td>3/8/2013 </td><td>Fri      </td><td>Fri      </td><td>0        </td><td>0        </td></tr>\n",
       "\t<tr><td>3/9/2013 </td><td>3/9/2013 </td><td>Sat      </td><td>Sat      </td><td>1        </td><td>1        </td></tr>\n",
       "\t<tr><td>3/9/2013 </td><td>3/9/2013 </td><td>Sat      </td><td>Sat      </td><td>1        </td><td>1        </td></tr>\n",
       "\t<tr><td>3/9/2013 </td><td>3/9/2013 </td><td>Sat      </td><td>Sat      </td><td>1        </td><td>1        </td></tr>\n",
       "\t<tr><td>3/9/2013 </td><td>3/9/2013 </td><td>Sat      </td><td>Sat      </td><td>1        </td><td>1        </td></tr>\n",
       "\t<tr><td>3/10/2013</td><td>3/10/2013</td><td>Sun      </td><td>Sun      </td><td>1        </td><td>1        </td></tr>\n",
       "</tbody>\n",
       "</table>\n"
      ],
      "text/latex": [
       "\\begin{tabular}{r|llllll}\n",
       " pickUp\\_Date & dropOff\\_Date & pickUp\\_Day & dropOff\\_Day & pickUp\\_isWeekend & dropOff\\_isWeekend\\\\\n",
       "\\hline\n",
       "\t 3/8/2013  & 3/8/2013  & Fri       & Fri       & 0         & 0        \\\\\n",
       "\t 3/9/2013  & 3/9/2013  & Sat       & Sat       & 1         & 1        \\\\\n",
       "\t 3/9/2013  & 3/9/2013  & Sat       & Sat       & 1         & 1        \\\\\n",
       "\t 3/9/2013  & 3/9/2013  & Sat       & Sat       & 1         & 1        \\\\\n",
       "\t 3/9/2013  & 3/9/2013  & Sat       & Sat       & 1         & 1        \\\\\n",
       "\t 3/10/2013 & 3/10/2013 & Sun       & Sun       & 1         & 1        \\\\\n",
       "\\end{tabular}\n"
      ],
      "text/markdown": [
       "\n",
       "pickUp_Date | dropOff_Date | pickUp_Day | dropOff_Day | pickUp_isWeekend | dropOff_isWeekend | \n",
       "|---|---|---|---|---|---|\n",
       "| 3/8/2013  | 3/8/2013  | Fri       | Fri       | 0         | 0         | \n",
       "| 3/9/2013  | 3/9/2013  | Sat       | Sat       | 1         | 1         | \n",
       "| 3/9/2013  | 3/9/2013  | Sat       | Sat       | 1         | 1         | \n",
       "| 3/9/2013  | 3/9/2013  | Sat       | Sat       | 1         | 1         | \n",
       "| 3/9/2013  | 3/9/2013  | Sat       | Sat       | 1         | 1         | \n",
       "| 3/10/2013 | 3/10/2013 | Sun       | Sun       | 1         | 1         | \n",
       "\n",
       "\n"
      ],
      "text/plain": [
       "  pickUp_Date dropOff_Date pickUp_Day dropOff_Day pickUp_isWeekend\n",
       "1 3/8/2013    3/8/2013     Fri        Fri         0               \n",
       "2 3/9/2013    3/9/2013     Sat        Sat         1               \n",
       "3 3/9/2013    3/9/2013     Sat        Sat         1               \n",
       "4 3/9/2013    3/9/2013     Sat        Sat         1               \n",
       "5 3/9/2013    3/9/2013     Sat        Sat         1               \n",
       "6 3/10/2013   3/10/2013    Sun        Sun         1               \n",
       "  dropOff_isWeekend\n",
       "1 0                \n",
       "2 1                \n",
       "3 1                \n",
       "4 1                \n",
       "5 1                \n",
       "6 1                "
      ]
     },
     "metadata": {},
     "output_type": "display_data"
    },
    {
     "data": {
      "text/plain": [
       "       \n",
       "             0      1\n",
       "  Sun        0 225556\n",
       "  Mon   221549      0\n",
       "  Tues  240791      0\n",
       "  Wed   245845      0\n",
       "  Thurs 250569      0\n",
       "  Fri   263159      0\n",
       "  Sat        0 256518"
      ]
     },
     "metadata": {},
     "output_type": "display_data"
    },
    {
     "data": {
      "text/plain": [
       "       \n",
       "             0      1\n",
       "  Sun        0 227571\n",
       "  Mon   221386      0\n",
       "  Tues  240371      0\n",
       "  Wed   245600      0\n",
       "  Thurs 249975      0\n",
       "  Fri   262644      0\n",
       "  Sat        0 256440"
      ]
     },
     "metadata": {},
     "output_type": "display_data"
    }
   ],
   "source": [
    "trip$pickUp_isWeekend <- ifelse(trip$pickUp_Day == \"Sat\" | \n",
    "                                  trip$pickUp_Day == \"Sun\", 1, 0)\n",
    "trip$dropOff_isWeekend <- ifelse(trip$dropOff_Day == \"Sat\" | \n",
    "                                  trip$dropOff_Day == \"Sun\", 1, 0)\n",
    "head(trip[ , (ncol(trip) - 5):(ncol(trip))]) \n",
    "table(trip$pickUp_Day, trip$pickUp_isWeekend)\n",
    "table(trip$dropOff_Day, trip$dropOff_isWeekend)"
   ]
  },
  {
   "cell_type": "code",
   "execution_count": 20,
   "metadata": {},
   "outputs": [
    {
     "data": {
      "text/html": [
       "48654"
      ],
      "text/latex": [
       "48654"
      ],
      "text/markdown": [
       "48654"
      ],
      "text/plain": [
       "[1] 48654"
      ]
     },
     "metadata": {},
     "output_type": "display_data"
    },
    {
     "data": {
      "text/html": [
       "48749"
      ],
      "text/latex": [
       "48749"
      ],
      "text/markdown": [
       "48749"
      ],
      "text/plain": [
       "[1] 48749"
      ]
     },
     "metadata": {},
     "output_type": "display_data"
    }
   ],
   "source": [
    "# federal public holidays: new years day, MLK day, presidents' day, mother's day, memorial day\n",
    "#     father's day, independence day, labor day, columbus day, veterans day, thanksgiving, \n",
    "#     day after thanksgiving, christmas day\n",
    "\n",
    "trip$pickUp_isHoliday <- ifelse(trip$pickUp_Date == \"1/1/2013\" |\n",
    "                                    trip$pickUp_Date == \"1/21/2013\" |\n",
    "                                    trip$pickUp_Date == \"2/18/2013\" | \n",
    "                                    trip$pickUp_Date == \"5/12/2013\" | \n",
    "                                    trip$pickUp_Date == \"5/27/2013\" | \n",
    "                                    trip$pickUp_Date == \"6/16/2013\" | \n",
    "                                    trip$pickUp_Date == \"7/4/2013\" | \n",
    "                                    trip$pickUp_Date == \"9/2/2013\" | \n",
    "                                    trip$pickUp_Date == \"10/4/2013\" | \n",
    "                                    trip$pickUp_Date == \"11/11/2013\" | \n",
    "                                    trip$pickUp_Date == \"11/28/2013\" | \n",
    "                                    trip$pickUp_Date == \"11/29/2013\" | \n",
    "                                    trip$pickUp_Date == \"12/25/2013\", 1, 0)\n",
    "trip$dropOff_isHoliday <- ifelse(trip$dropOff_Date == \"1/1/2013\" |\n",
    "                                    trip$dropOff_Date == \"1/21/2013\" |\n",
    "                                    trip$dropOff_Date == \"2/18/2013\" | \n",
    "                                    trip$dropOff_Date == \"5/12/2013\" | \n",
    "                                    trip$dropOff_Date == \"5/27/2013\" | \n",
    "                                    trip$dropOff_Date == \"6/16/2013\" | \n",
    "                                    trip$dropOff_Date == \"7/4/2013\" | \n",
    "                                    trip$dropOff_Date == \"9/2/2013\" | \n",
    "                                    trip$dropOff_Date == \"10/4/2013\" | \n",
    "                                    trip$dropOff_Date == \"11/11/2013\" | \n",
    "                                    trip$dropOff_Date == \"11/28/2013\" | \n",
    "                                    trip$dropOff_Date == \"11/29/2013\" | \n",
    "                                    trip$dropOff_Date == \"12/25/2013\", 1, 0)\n",
    "nrow(trip[trip$pickUp_isHoliday, ])\n",
    "nrow(trip[trip$dropOff_isHoliday, ])"
   ]
  },
  {
   "cell_type": "code",
   "execution_count": 21,
   "metadata": {},
   "outputs": [
    {
     "data": {
      "text/html": [
       "<table>\n",
       "<thead><tr><th scope=col>pu_binnedTime</th><th scope=col>pickUp_TimeOfDay.quad</th><th scope=col>do_binnedTime</th><th scope=col>dropOff_TimeOfDay.quad</th></tr></thead>\n",
       "<tbody>\n",
       "\t<tr><td>21     </td><td>evening</td><td>22     </td><td>evening</td></tr>\n",
       "\t<tr><td>18     </td><td>evening</td><td>19     </td><td>evening</td></tr>\n",
       "\t<tr><td>19     </td><td>evening</td><td>19     </td><td>evening</td></tr>\n",
       "\t<tr><td>20     </td><td>evening</td><td>20     </td><td>evening</td></tr>\n",
       "\t<tr><td>23     </td><td>night  </td><td>23     </td><td>night  </td></tr>\n",
       "\t<tr><td>0      </td><td>night  </td><td>0      </td><td>night  </td></tr>\n",
       "</tbody>\n",
       "</table>\n"
      ],
      "text/latex": [
       "\\begin{tabular}{r|llll}\n",
       " pu\\_binnedTime & pickUp\\_TimeOfDay.quad & do\\_binnedTime & dropOff\\_TimeOfDay.quad\\\\\n",
       "\\hline\n",
       "\t 21      & evening & 22      & evening\\\\\n",
       "\t 18      & evening & 19      & evening\\\\\n",
       "\t 19      & evening & 19      & evening\\\\\n",
       "\t 20      & evening & 20      & evening\\\\\n",
       "\t 23      & night   & 23      & night  \\\\\n",
       "\t 0       & night   & 0       & night  \\\\\n",
       "\\end{tabular}\n"
      ],
      "text/markdown": [
       "\n",
       "pu_binnedTime | pickUp_TimeOfDay.quad | do_binnedTime | dropOff_TimeOfDay.quad | \n",
       "|---|---|---|---|---|---|\n",
       "| 21      | evening | 22      | evening | \n",
       "| 18      | evening | 19      | evening | \n",
       "| 19      | evening | 19      | evening | \n",
       "| 20      | evening | 20      | evening | \n",
       "| 23      | night   | 23      | night   | \n",
       "| 0       | night   | 0       | night   | \n",
       "\n",
       "\n"
      ],
      "text/plain": [
       "  pu_binnedTime pickUp_TimeOfDay.quad do_binnedTime dropOff_TimeOfDay.quad\n",
       "1 21            evening               22            evening               \n",
       "2 18            evening               19            evening               \n",
       "3 19            evening               19            evening               \n",
       "4 20            evening               20            evening               \n",
       "5 23            night                 23            night                 \n",
       "6 0             night                 0             night                 "
      ]
     },
     "metadata": {},
     "output_type": "display_data"
    }
   ],
   "source": [
    "# 4-part times of day: \"morning\", \"afternoon\", \"evening\", \"night\"\n",
    "#      using BINNED times [5AM-10AM], [11AM-4PM], [5PM-10PM], [11PM-4AM]\n",
    "\n",
    "trip$pickUp_TimeOfDay.quad <- \"none\"\n",
    "trip$pickUp_TimeOfDay.quad <- ifelse(trip$pu_binnedTime >= 5 &\n",
    "                                            trip$pu_binnedTime <= 10, \n",
    "                                            \"morning\", \"none\")\n",
    "trip[trip$pickUp_TimeOfDay.quad == \"none\", ]$pickUp_TimeOfDay.quad <- \n",
    "       ifelse(trip[trip$pickUp_TimeOfDay.quad == \"none\", ]$pu_binnedTime >= 11 & \n",
    "              trip[trip$pickUp_TimeOfDay.quad == \"none\", ]$pu_binnedTime <= 16, \n",
    "              \"afternoon\", \"none\")\n",
    "trip[trip$pickUp_TimeOfDay.quad == \"none\", ]$pickUp_TimeOfDay.quad <- \n",
    "       ifelse(trip[trip$pickUp_TimeOfDay.quad == \"none\", ]$pu_binnedTime >= 17 & \n",
    "              trip[trip$pickUp_TimeOfDay.quad == \"none\", ]$pu_binnedTime <= 22, \n",
    "              \"evening\", \"none\")\n",
    "trip[trip$pickUp_TimeOfDay.quad == \"none\", ]$pickUp_TimeOfDay.quad <- \n",
    "       ifelse(trip[trip$pickUp_TimeOfDay.quad == \"none\", ]$pu_binnedTime == 23 | \n",
    "              trip[trip$pickUp_TimeOfDay.quad == \"none\", ]$pu_binnedTime <= 4, \n",
    "              \"night\", \"none\")\n",
    "\n",
    "\n",
    "trip$dropOff_TimeOfDay.quad <- \"none\"\n",
    "trip$dropOff_TimeOfDay.quad <- ifelse(trip$do_binnedTime >= 5 &\n",
    "                                            trip$do_binnedTime <= 10, \n",
    "                                            \"morning\", \"none\")\n",
    "trip[trip$dropOff_TimeOfDay.quad == \"none\", ]$dropOff_TimeOfDay.quad <- \n",
    "       ifelse(trip[trip$dropOff_TimeOfDay.quad == \"none\", ]$do_binnedTime >= 11 & \n",
    "              trip[trip$dropOff_TimeOfDay.quad == \"none\", ]$do_binnedTime <= 16, \n",
    "              \"afternoon\", \"none\")\n",
    "trip[trip$dropOff_TimeOfDay.quad == \"none\", ]$dropOff_TimeOfDay.quad <- \n",
    "       ifelse(trip[trip$dropOff_TimeOfDay.quad == \"none\", ]$do_binnedTime >= 17 & \n",
    "              trip[trip$dropOff_TimeOfDay.quad == \"none\", ]$do_binnedTime <= 22, \n",
    "              \"evening\", \"none\")\n",
    "trip[trip$dropOff_TimeOfDay.quad == \"none\", ]$dropOff_TimeOfDay.quad <- \n",
    "       ifelse(trip[trip$dropOff_TimeOfDay.quad == \"none\", ]$do_binnedTime == 23 | \n",
    "              trip[trip$dropOff_TimeOfDay.quad == \"none\", ]$do_binnedTime <= 4, \n",
    "              \"night\", \"none\")\n",
    "\n",
    "head(trip[ , c(\"pu_binnedTime\",\"pickUp_TimeOfDay.quad\", \"do_binnedTime\", \"dropOff_TimeOfDay.quad\")])"
   ]
  },
  {
   "cell_type": "code",
   "execution_count": 22,
   "metadata": {
    "collapsed": true
   },
   "outputs": [],
   "source": [
    "# 7-part times of day:  early morning, morning, midday, afternoon, evening, night, late night\n",
    "#    4AM-6AM, 7AM-10AM, 11AM-1PM, 2PM-5PM, 6PM-8PM, 9PM-11PM, 12AM-3AM\n",
    "\n",
    "trip$pickUp_TimeOfDay.sept <- \"none\"\n",
    "trip$pickUp_TimeOfDay.sept <- ifelse(trip$pu_binnedTime >= 4 & \n",
    "                                       trip$pu_binnedTime <= 6, \n",
    "                                       \"earlyMorning\", \"none\")\n",
    "trip[trip$pickUp_TimeOfDay.sept == \"none\", ]$pickUp_TimeOfDay.sept <- \n",
    "        ifelse(trip[trip$pickUp_TimeOfDay.sept == \"none\", ]$pu_binnedTime >= 7 & \n",
    "                trip[trip$pickUp_TimeOfDay.sept == \"none\", ]$pu_binnedTime <= 10, \n",
    "                \"morning\", \"none\")\n",
    "trip[trip$pickUp_TimeOfDay.sept == \"none\", ]$pickUp_TimeOfDay.sept <- \n",
    "        ifelse(trip[trip$pickUp_TimeOfDay.sept == \"none\", ]$pu_binnedTime >= 11 & \n",
    "                trip[trip$pickUp_TimeOfDay.sept == \"none\", ]$pu_binnedTime <= 13, \n",
    "                \"midday\", \"none\")\n",
    "trip[trip$pickUp_TimeOfDay.sept == \"none\", ]$pickUp_TimeOfDay.sept <- \n",
    "        ifelse(trip[trip$pickUp_TimeOfDay.sept == \"none\", ]$pu_binnedTime >= 14 & \n",
    "                trip[trip$pickUp_TimeOfDay.sept == \"none\", ]$pu_binnedTime <= 17, \n",
    "                \"afternoon\", \"none\")\n",
    "trip[trip$pickUp_TimeOfDay.sept == \"none\", ]$pickUp_TimeOfDay.sept <- \n",
    "        ifelse(trip[trip$pickUp_TimeOfDay.sept == \"none\", ]$pu_binnedTime >= 18 & \n",
    "                trip[trip$pickUp_TimeOfDay.sept == \"none\", ]$pu_binnedTime <= 20, \n",
    "                \"evening\", \"none\")\n",
    "trip[trip$pickUp_TimeOfDay.sept == \"none\", ]$pickUp_TimeOfDay.sept <- \n",
    "        ifelse(trip[trip$pickUp_TimeOfDay.sept == \"none\", ]$pu_binnedTime >= 21,  \n",
    "                \"night\", \"none\")\n",
    "trip[trip$pickUp_TimeOfDay.sept == \"none\", ]$pickUp_TimeOfDay.sept <- \n",
    "        ifelse(trip[trip$pickUp_TimeOfDay.sept == \"none\", ]$pu_binnedTime <= 3,  \n",
    "                \"lateNight\", \"none\")\n",
    "\n",
    "\n",
    "trip$dropOff_TimeOfDay.sept <- \"none\"\n",
    "trip$dropOff_TimeOfDay.sept <- ifelse(trip$do_binnedTime >= 4 & \n",
    "                                       trip$do_binnedTime <= 6, \n",
    "                                       \"earlyMorning\", \"none\")\n",
    "trip[trip$dropOff_TimeOfDay.sept == \"none\", ]$dropOff_TimeOfDay.sept <- \n",
    "        ifelse(trip[trip$dropOff_TimeOfDay.sept == \"none\", ]$do_binnedTime >= 7 & \n",
    "                trip[trip$dropOff_TimeOfDay.sept == \"none\", ]$do_binnedTime <= 10, \n",
    "                \"morning\", \"none\")\n",
    "trip[trip$dropOff_TimeOfDay.sept == \"none\", ]$dropOff_TimeOfDay.sept <- \n",
    "        ifelse(trip[trip$dropOff_TimeOfDay.sept == \"none\", ]$do_binnedTime >= 11 & \n",
    "                trip[trip$dropOff_TimeOfDay.sept == \"none\", ]$do_binnedTime <= 13, \n",
    "                \"midday\", \"none\")\n",
    "trip[trip$dropOff_TimeOfDay.sept == \"none\", ]$dropOff_TimeOfDay.sept <- \n",
    "        ifelse(trip[trip$dropOff_TimeOfDay.sept == \"none\", ]$do_binnedTime >= 14 & \n",
    "                trip[trip$dropOff_TimeOfDay.sept == \"none\", ]$do_binnedTime <= 17, \n",
    "                \"afternoon\", \"none\")\n",
    "trip[trip$dropOff_TimeOfDay.sept == \"none\", ]$dropOff_TimeOfDay.sept <- \n",
    "        ifelse(trip[trip$dropOff_TimeOfDay.sept == \"none\", ]$do_binnedTime >= 18 & \n",
    "                trip[trip$dropOff_TimeOfDay.sept == \"none\", ]$do_binnedTime <= 20, \n",
    "                \"evening\", \"none\")\n",
    "trip[trip$dropOff_TimeOfDay.sept == \"none\", ]$dropOff_TimeOfDay.sept <- \n",
    "        ifelse(trip[trip$dropOff_TimeOfDay.sept == \"none\", ]$do_binnedTime >= 21,  \n",
    "                \"night\", \"none\")\n",
    "trip[trip$dropOff_TimeOfDay.sept == \"none\", ]$dropOff_TimeOfDay.sept <- \n",
    "        ifelse(trip[trip$dropOff_TimeOfDay.sept == \"none\", ]$do_binnedTime <= 3,  \n",
    "                \"lateNight\", \"none\")"
   ]
  },
  {
   "cell_type": "code",
   "execution_count": 23,
   "metadata": {},
   "outputs": [
    {
     "data": {
      "text/plain": [
       " pickUp_TimeOfDay.quad dropOff_TimeOfDay.quad  pickUp_TimeOfDay.sept\n",
       " morning  :345891      morning  :331867       earlyMorning: 70941   \n",
       " afternoon:484032      afternoon:485392       morning     :294203   \n",
       " evening  :589354      evening  :586880       midday      :247452   \n",
       " night    :284710      night    :299848       afternoon   :319960   \n",
       "                                              evening     :311432   \n",
       "                                              night       :279356   \n",
       "                                              lateNight   :180643   \n",
       "  dropOff_TimeOfDay.sept\n",
       " earlyMorning: 67904    \n",
       " morning     :284760    \n",
       " midday      :244973    \n",
       " afternoon   :318043    \n",
       " evening     :313373    \n",
       " night       :283016    \n",
       " lateNight   :191918    "
      ]
     },
     "metadata": {},
     "output_type": "display_data"
    }
   ],
   "source": [
    "# convert the 'time of day' features to type of factors\n",
    "trip$pickUp_TimeOfDay.quad <- factor(trip$pickUp_TimeOfDay.quad, \n",
    "                                     levels=c(\"morning\", \"afternoon\", \n",
    "                                     \"evening\", \"night\"), ordered = T)\n",
    "trip$dropOff_TimeOfDay.quad <- factor(trip$dropOff_TimeOfDay.quad, \n",
    "                                         levels=c(\"morning\", \"afternoon\", \n",
    "                                         \"evening\", \"night\"), ordered = T)\n",
    "\n",
    "trip$pickUp_TimeOfDay.sept <- factor(trip$pickUp_TimeOfDay.sept, \n",
    "                                    levels=c(\"earlyMorning\", \"morning\", \"midday\", \"afternoon\", \n",
    "                                            \"evening\", \"night\", \"lateNight\"), ordered = T)\n",
    "trip$dropOff_TimeOfDay.sept <- factor(trip$dropOff_TimeOfDay.sept, \n",
    "                                     levels=c(\"earlyMorning\", \"morning\", \"midday\", \"afternoon\", \n",
    "                                            \"evening\", \"night\", \"lateNight\"), ordered = T)\n",
    "\n",
    "summary(trip[ , (ncol(trip)-3):(ncol(trip))])"
   ]
  },
  {
   "cell_type": "code",
   "execution_count": 24,
   "metadata": {},
   "outputs": [
    {
     "data": {
      "text/html": [
       "<table>\n",
       "<thead><tr><th scope=col>medallion</th><th scope=col>hack_license</th><th scope=col>vendor_id</th><th scope=col>rate_code</th><th scope=col>store_and_fwd_flag</th><th scope=col>pickup_datetime</th><th scope=col>dropoff_datetime</th><th scope=col>passenger_count</th><th scope=col>trip_time_in_secs</th><th scope=col>trip_distance</th><th scope=col>...</th><th scope=col>pickUp_Day</th><th scope=col>dropOff_Day</th><th scope=col>pickUp_isWeekend</th><th scope=col>dropOff_isWeekend</th><th scope=col>pickUp_isHoliday</th><th scope=col>dropOff_isHoliday</th><th scope=col>pickUp_TimeOfDay.quad</th><th scope=col>dropOff_TimeOfDay.quad</th><th scope=col>pickUp_TimeOfDay.sept</th><th scope=col>dropOff_TimeOfDay.sept</th></tr></thead>\n",
       "<tbody>\n",
       "\t<tr><td>00005007A9F30E289E760362F69E4EAD</td><td>A9AE329EA1138052DAC8FDFD8BA86603</td><td>CMT                             </td><td>1                               </td><td>N                               </td><td>3/8/2013 9:55:27 PM             </td><td>3/8/2013 10:05:59 PM            </td><td>2                               </td><td> 631                            </td><td>2.5                             </td><td>...                             </td><td>Fri                             </td><td>Fri                             </td><td>0                               </td><td>0                               </td><td>0                               </td><td>0                               </td><td>evening                         </td><td>evening                         </td><td>night                           </td><td>night                           </td></tr>\n",
       "\t<tr><td>00005007A9F30E289E760362F69E4EAD</td><td>A9AE329EA1138052DAC8FDFD8BA86603</td><td>CMT                             </td><td>1                               </td><td>N                               </td><td>3/9/2013 6:51:52 PM             </td><td>3/9/2013 7:02:59 PM             </td><td>2                               </td><td> 666                            </td><td>1.8                             </td><td>...                             </td><td>Sat                             </td><td>Sat                             </td><td>1                               </td><td>1                               </td><td>0                               </td><td>0                               </td><td>evening                         </td><td>evening                         </td><td>evening                         </td><td>evening                         </td></tr>\n",
       "\t<tr><td>00005007A9F30E289E760362F69E4EAD</td><td>A9AE329EA1138052DAC8FDFD8BA86603</td><td>CMT                             </td><td>1                               </td><td>N                               </td><td>3/9/2013 7:04:35 PM             </td><td>3/9/2013 7:27:57 PM             </td><td>2                               </td><td>1401                            </td><td>4.4                             </td><td>...                             </td><td>Sat                             </td><td>Sat                             </td><td>1                               </td><td>1                               </td><td>0                               </td><td>0                               </td><td>evening                         </td><td>evening                         </td><td>evening                         </td><td>evening                         </td></tr>\n",
       "\t<tr><td>00005007A9F30E289E760362F69E4EAD</td><td>A9AE329EA1138052DAC8FDFD8BA86603</td><td>CMT                             </td><td>1                               </td><td>N                               </td><td>3/9/2013 8:33:06 PM             </td><td>3/9/2013 8:45:38 PM             </td><td>1                               </td><td> 751                            </td><td>2.8                             </td><td>...                             </td><td>Sat                             </td><td>Sat                             </td><td>1                               </td><td>1                               </td><td>0                               </td><td>0                               </td><td>evening                         </td><td>evening                         </td><td>evening                         </td><td>evening                         </td></tr>\n",
       "\t<tr><td>00005007A9F30E289E760362F69E4EAD</td><td>A9AE329EA1138052DAC8FDFD8BA86603</td><td>CMT                             </td><td>1                               </td><td>N                               </td><td>3/9/2013 11:10:38 PM            </td><td>3/9/2013 11:14:59 PM            </td><td>1                               </td><td> 261                            </td><td>1.5                             </td><td>...                             </td><td>Sat                             </td><td>Sat                             </td><td>1                               </td><td>1                               </td><td>0                               </td><td>0                               </td><td>night                           </td><td>night                           </td><td>night                           </td><td>night                           </td></tr>\n",
       "\t<tr><td>00005007A9F30E289E760362F69E4EAD</td><td>A9AE329EA1138052DAC8FDFD8BA86603</td><td>CMT                             </td><td>1                               </td><td>N                               </td><td>3/10/2013 12:32:28 AM           </td><td>3/10/2013 12:57:12 AM           </td><td>3                               </td><td>1484                            </td><td>2.3                             </td><td>...                             </td><td>Sun                             </td><td>Sun                             </td><td>1                               </td><td>1                               </td><td>0                               </td><td>0                               </td><td>night                           </td><td>night                           </td><td>lateNight                       </td><td>lateNight                       </td></tr>\n",
       "</tbody>\n",
       "</table>\n"
      ],
      "text/latex": [
       "\\begin{tabular}{r|llllllllllllllllllllllllllllllllllllll}\n",
       " medallion & hack\\_license & vendor\\_id & rate\\_code & store\\_and\\_fwd\\_flag & pickup\\_datetime & dropoff\\_datetime & passenger\\_count & trip\\_time\\_in\\_secs & trip\\_distance & ... & pickUp\\_Day & dropOff\\_Day & pickUp\\_isWeekend & dropOff\\_isWeekend & pickUp\\_isHoliday & dropOff\\_isHoliday & pickUp\\_TimeOfDay.quad & dropOff\\_TimeOfDay.quad & pickUp\\_TimeOfDay.sept & dropOff\\_TimeOfDay.sept\\\\\n",
       "\\hline\n",
       "\t 00005007A9F30E289E760362F69E4EAD & A9AE329EA1138052DAC8FDFD8BA86603 & CMT                              & 1                                & N                                & 3/8/2013 9:55:27 PM              & 3/8/2013 10:05:59 PM             & 2                                &  631                             & 2.5                              & ...                              & Fri                              & Fri                              & 0                                & 0                                & 0                                & 0                                & evening                          & evening                          & night                            & night                           \\\\\n",
       "\t 00005007A9F30E289E760362F69E4EAD & A9AE329EA1138052DAC8FDFD8BA86603 & CMT                              & 1                                & N                                & 3/9/2013 6:51:52 PM              & 3/9/2013 7:02:59 PM              & 2                                &  666                             & 1.8                              & ...                              & Sat                              & Sat                              & 1                                & 1                                & 0                                & 0                                & evening                          & evening                          & evening                          & evening                         \\\\\n",
       "\t 00005007A9F30E289E760362F69E4EAD & A9AE329EA1138052DAC8FDFD8BA86603 & CMT                              & 1                                & N                                & 3/9/2013 7:04:35 PM              & 3/9/2013 7:27:57 PM              & 2                                & 1401                             & 4.4                              & ...                              & Sat                              & Sat                              & 1                                & 1                                & 0                                & 0                                & evening                          & evening                          & evening                          & evening                         \\\\\n",
       "\t 00005007A9F30E289E760362F69E4EAD & A9AE329EA1138052DAC8FDFD8BA86603 & CMT                              & 1                                & N                                & 3/9/2013 8:33:06 PM              & 3/9/2013 8:45:38 PM              & 1                                &  751                             & 2.8                              & ...                              & Sat                              & Sat                              & 1                                & 1                                & 0                                & 0                                & evening                          & evening                          & evening                          & evening                         \\\\\n",
       "\t 00005007A9F30E289E760362F69E4EAD & A9AE329EA1138052DAC8FDFD8BA86603 & CMT                              & 1                                & N                                & 3/9/2013 11:10:38 PM             & 3/9/2013 11:14:59 PM             & 1                                &  261                             & 1.5                              & ...                              & Sat                              & Sat                              & 1                                & 1                                & 0                                & 0                                & night                            & night                            & night                            & night                           \\\\\n",
       "\t 00005007A9F30E289E760362F69E4EAD & A9AE329EA1138052DAC8FDFD8BA86603 & CMT                              & 1                                & N                                & 3/10/2013 12:32:28 AM            & 3/10/2013 12:57:12 AM            & 3                                & 1484                             & 2.3                              & ...                              & Sun                              & Sun                              & 1                                & 1                                & 0                                & 0                                & night                            & night                            & lateNight                        & lateNight                       \\\\\n",
       "\\end{tabular}\n"
      ],
      "text/markdown": [
       "\n",
       "medallion | hack_license | vendor_id | rate_code | store_and_fwd_flag | pickup_datetime | dropoff_datetime | passenger_count | trip_time_in_secs | trip_distance | ... | pickUp_Day | dropOff_Day | pickUp_isWeekend | dropOff_isWeekend | pickUp_isHoliday | dropOff_isHoliday | pickUp_TimeOfDay.quad | dropOff_TimeOfDay.quad | pickUp_TimeOfDay.sept | dropOff_TimeOfDay.sept | \n",
       "|---|---|---|---|---|---|\n",
       "| 00005007A9F30E289E760362F69E4EAD | A9AE329EA1138052DAC8FDFD8BA86603 | CMT                              | 1                                | N                                | 3/8/2013 9:55:27 PM              | 3/8/2013 10:05:59 PM             | 2                                |  631                             | 2.5                              | ...                              | Fri                              | Fri                              | 0                                | 0                                | 0                                | 0                                | evening                          | evening                          | night                            | night                            | \n",
       "| 00005007A9F30E289E760362F69E4EAD | A9AE329EA1138052DAC8FDFD8BA86603 | CMT                              | 1                                | N                                | 3/9/2013 6:51:52 PM              | 3/9/2013 7:02:59 PM              | 2                                |  666                             | 1.8                              | ...                              | Sat                              | Sat                              | 1                                | 1                                | 0                                | 0                                | evening                          | evening                          | evening                          | evening                          | \n",
       "| 00005007A9F30E289E760362F69E4EAD | A9AE329EA1138052DAC8FDFD8BA86603 | CMT                              | 1                                | N                                | 3/9/2013 7:04:35 PM              | 3/9/2013 7:27:57 PM              | 2                                | 1401                             | 4.4                              | ...                              | Sat                              | Sat                              | 1                                | 1                                | 0                                | 0                                | evening                          | evening                          | evening                          | evening                          | \n",
       "| 00005007A9F30E289E760362F69E4EAD | A9AE329EA1138052DAC8FDFD8BA86603 | CMT                              | 1                                | N                                | 3/9/2013 8:33:06 PM              | 3/9/2013 8:45:38 PM              | 1                                |  751                             | 2.8                              | ...                              | Sat                              | Sat                              | 1                                | 1                                | 0                                | 0                                | evening                          | evening                          | evening                          | evening                          | \n",
       "| 00005007A9F30E289E760362F69E4EAD | A9AE329EA1138052DAC8FDFD8BA86603 | CMT                              | 1                                | N                                | 3/9/2013 11:10:38 PM             | 3/9/2013 11:14:59 PM             | 1                                |  261                             | 1.5                              | ...                              | Sat                              | Sat                              | 1                                | 1                                | 0                                | 0                                | night                            | night                            | night                            | night                            | \n",
       "| 00005007A9F30E289E760362F69E4EAD | A9AE329EA1138052DAC8FDFD8BA86603 | CMT                              | 1                                | N                                | 3/10/2013 12:32:28 AM            | 3/10/2013 12:57:12 AM            | 3                                | 1484                             | 2.3                              | ...                              | Sun                              | Sun                              | 1                                | 1                                | 0                                | 0                                | night                            | night                            | lateNight                        | lateNight                        | \n",
       "\n",
       "\n"
      ],
      "text/plain": [
       "  medallion                        hack_license                     vendor_id\n",
       "1 00005007A9F30E289E760362F69E4EAD A9AE329EA1138052DAC8FDFD8BA86603 CMT      \n",
       "2 00005007A9F30E289E760362F69E4EAD A9AE329EA1138052DAC8FDFD8BA86603 CMT      \n",
       "3 00005007A9F30E289E760362F69E4EAD A9AE329EA1138052DAC8FDFD8BA86603 CMT      \n",
       "4 00005007A9F30E289E760362F69E4EAD A9AE329EA1138052DAC8FDFD8BA86603 CMT      \n",
       "5 00005007A9F30E289E760362F69E4EAD A9AE329EA1138052DAC8FDFD8BA86603 CMT      \n",
       "6 00005007A9F30E289E760362F69E4EAD A9AE329EA1138052DAC8FDFD8BA86603 CMT      \n",
       "  rate_code store_and_fwd_flag pickup_datetime       dropoff_datetime     \n",
       "1 1         N                  3/8/2013 9:55:27 PM   3/8/2013 10:05:59 PM \n",
       "2 1         N                  3/9/2013 6:51:52 PM   3/9/2013 7:02:59 PM  \n",
       "3 1         N                  3/9/2013 7:04:35 PM   3/9/2013 7:27:57 PM  \n",
       "4 1         N                  3/9/2013 8:33:06 PM   3/9/2013 8:45:38 PM  \n",
       "5 1         N                  3/9/2013 11:10:38 PM  3/9/2013 11:14:59 PM \n",
       "6 1         N                  3/10/2013 12:32:28 AM 3/10/2013 12:57:12 AM\n",
       "  passenger_count trip_time_in_secs trip_distance ... pickUp_Day dropOff_Day\n",
       "1 2                631              2.5           ... Fri        Fri        \n",
       "2 2                666              1.8           ... Sat        Sat        \n",
       "3 2               1401              4.4           ... Sat        Sat        \n",
       "4 1                751              2.8           ... Sat        Sat        \n",
       "5 1                261              1.5           ... Sat        Sat        \n",
       "6 3               1484              2.3           ... Sun        Sun        \n",
       "  pickUp_isWeekend dropOff_isWeekend pickUp_isHoliday dropOff_isHoliday\n",
       "1 0                0                 0                0                \n",
       "2 1                1                 0                0                \n",
       "3 1                1                 0                0                \n",
       "4 1                1                 0                0                \n",
       "5 1                1                 0                0                \n",
       "6 1                1                 0                0                \n",
       "  pickUp_TimeOfDay.quad dropOff_TimeOfDay.quad pickUp_TimeOfDay.sept\n",
       "1 evening               evening                night                \n",
       "2 evening               evening                evening              \n",
       "3 evening               evening                evening              \n",
       "4 evening               evening                evening              \n",
       "5 night                 night                  night                \n",
       "6 night                 night                  lateNight            \n",
       "  dropOff_TimeOfDay.sept\n",
       "1 night                 \n",
       "2 evening               \n",
       "3 evening               \n",
       "4 evening               \n",
       "5 night                 \n",
       "6 lateNight             "
      ]
     },
     "metadata": {},
     "output_type": "display_data"
    }
   ],
   "source": [
    "head(trip)"
   ]
  },
  {
   "cell_type": "markdown",
   "metadata": {},
   "source": [
    "## More Date Reformatting"
   ]
  },
  {
   "cell_type": "code",
   "execution_count": 25,
   "metadata": {},
   "outputs": [
    {
     "data": {
      "text/plain": [
       " pickUp_Day     dropOff_Day   \n",
       " Sun  :225556   Sun  :227571  \n",
       " Mon  :221549   Mon  :221386  \n",
       " Tues :240791   Tues :240371  \n",
       " Wed  :245845   Wed  :245600  \n",
       " Thurs:250569   Thurs:249975  \n",
       " Fri  :263159   Fri  :262644  \n",
       " Sat  :256518   Sat  :256440  "
      ]
     },
     "metadata": {},
     "output_type": "display_data"
    }
   ],
   "source": [
    "# make pickUp/dropOff_Day an ordered factor\n",
    "trip$pickUp_Day <- factor(trip$pickUp_Day, levels=c(\"Sun\", \"Mon\", \"Tues\", \"Wed\", \n",
    "                                          \"Thurs\", \"Fri\", \"Sat\"), ordered=T)\n",
    "trip$dropOff_Day <- factor(trip$dropOff_Day, levels=c(\"Sun\", \"Mon\", \"Tues\", \"Wed\", \n",
    "                                          \"Thurs\", \"Fri\", \"Sat\"), ordered=T)\n",
    "summary(trip[ , c(\"pickUp_Day\", \"dropOff_Day\")])"
   ]
  },
  {
   "cell_type": "code",
   "execution_count": 30,
   "metadata": {},
   "outputs": [
    {
     "data": {
      "text/html": [
       "<ol class=list-inline>\n",
       "\t<li>'3/8/2013'</li>\n",
       "\t<li>'3/9/2013'</li>\n",
       "\t<li>'3/9/2013'</li>\n",
       "\t<li>'3/9/2013'</li>\n",
       "\t<li>'3/9/2013'</li>\n",
       "\t<li>'3/10/2013'</li>\n",
       "</ol>\n"
      ],
      "text/latex": [
       "\\begin{enumerate*}\n",
       "\\item '3/8/2013'\n",
       "\\item '3/9/2013'\n",
       "\\item '3/9/2013'\n",
       "\\item '3/9/2013'\n",
       "\\item '3/9/2013'\n",
       "\\item '3/10/2013'\n",
       "\\end{enumerate*}\n"
      ],
      "text/markdown": [
       "1. '3/8/2013'\n",
       "2. '3/9/2013'\n",
       "3. '3/9/2013'\n",
       "4. '3/9/2013'\n",
       "5. '3/9/2013'\n",
       "6. '3/10/2013'\n",
       "\n",
       "\n"
      ],
      "text/plain": [
       "[1] \"3/8/2013\"  \"3/9/2013\"  \"3/9/2013\"  \"3/9/2013\"  \"3/9/2013\"  \"3/10/2013\""
      ]
     },
     "metadata": {},
     "output_type": "display_data"
    },
    {
     "data": {
      "text/html": [
       "'character'"
      ],
      "text/latex": [
       "'character'"
      ],
      "text/markdown": [
       "'character'"
      ],
      "text/plain": [
       "[1] \"character\""
      ]
     },
     "metadata": {},
     "output_type": "display_data"
    }
   ],
   "source": [
    "head(trip$pickUp_dateString) #checking to make sure this is the format/type I think it is\n",
    "class(trip$pickUp_dateString)"
   ]
  },
  {
   "cell_type": "code",
   "execution_count": 31,
   "metadata": {},
   "outputs": [
    {
     "data": {
      "text/html": [
       "<ol class=list-inline>\n",
       "\t<li>'1'</li>\n",
       "\t<li>'10'</li>\n",
       "\t<li>'11'</li>\n",
       "\t<li>'12'</li>\n",
       "\t<li>'2'</li>\n",
       "\t<li>'3'</li>\n",
       "\t<li>'4'</li>\n",
       "\t<li>'5'</li>\n",
       "\t<li>'6'</li>\n",
       "\t<li>'7'</li>\n",
       "\t<li>'8'</li>\n",
       "\t<li>'9'</li>\n",
       "</ol>\n"
      ],
      "text/latex": [
       "\\begin{enumerate*}\n",
       "\\item '1'\n",
       "\\item '10'\n",
       "\\item '11'\n",
       "\\item '12'\n",
       "\\item '2'\n",
       "\\item '3'\n",
       "\\item '4'\n",
       "\\item '5'\n",
       "\\item '6'\n",
       "\\item '7'\n",
       "\\item '8'\n",
       "\\item '9'\n",
       "\\end{enumerate*}\n"
      ],
      "text/markdown": [
       "1. '1'\n",
       "2. '10'\n",
       "3. '11'\n",
       "4. '12'\n",
       "5. '2'\n",
       "6. '3'\n",
       "7. '4'\n",
       "8. '5'\n",
       "9. '6'\n",
       "10. '7'\n",
       "11. '8'\n",
       "12. '9'\n",
       "\n",
       "\n"
      ],
      "text/plain": [
       " [1] \"1\"  \"10\" \"11\" \"12\" \"2\"  \"3\"  \"4\"  \"5\"  \"6\"  \"7\"  \"8\"  \"9\" "
      ]
     },
     "metadata": {},
     "output_type": "display_data"
    }
   ],
   "source": [
    "# split month from full date\n",
    "trip$pickUp_Month <- trip$pickUp_dateString\n",
    "trip$pickUp_Month <- gsub(\"/.*$\", \"\", trip$pickUp_Month)\n",
    "trip$pickUp_Month <- as.factor(trip$pickUp_Month)\n",
    "\n",
    "levels(trip$pickUp_Month)"
   ]
  },
  {
   "cell_type": "code",
   "execution_count": 32,
   "metadata": {},
   "outputs": [
    {
     "data": {
      "text/html": [
       "<ol class=list-inline>\n",
       "\t<li>'1'</li>\n",
       "\t<li>'10'</li>\n",
       "\t<li>'11'</li>\n",
       "\t<li>'12'</li>\n",
       "\t<li>'2'</li>\n",
       "\t<li>'3'</li>\n",
       "\t<li>'4'</li>\n",
       "\t<li>'5'</li>\n",
       "\t<li>'6'</li>\n",
       "\t<li>'7'</li>\n",
       "\t<li>'8'</li>\n",
       "\t<li>'9'</li>\n",
       "</ol>\n"
      ],
      "text/latex": [
       "\\begin{enumerate*}\n",
       "\\item '1'\n",
       "\\item '10'\n",
       "\\item '11'\n",
       "\\item '12'\n",
       "\\item '2'\n",
       "\\item '3'\n",
       "\\item '4'\n",
       "\\item '5'\n",
       "\\item '6'\n",
       "\\item '7'\n",
       "\\item '8'\n",
       "\\item '9'\n",
       "\\end{enumerate*}\n"
      ],
      "text/markdown": [
       "1. '1'\n",
       "2. '10'\n",
       "3. '11'\n",
       "4. '12'\n",
       "5. '2'\n",
       "6. '3'\n",
       "7. '4'\n",
       "8. '5'\n",
       "9. '6'\n",
       "10. '7'\n",
       "11. '8'\n",
       "12. '9'\n",
       "\n",
       "\n"
      ],
      "text/plain": [
       " [1] \"1\"  \"10\" \"11\" \"12\" \"2\"  \"3\"  \"4\"  \"5\"  \"6\"  \"7\"  \"8\"  \"9\" "
      ]
     },
     "metadata": {},
     "output_type": "display_data"
    }
   ],
   "source": [
    "# repeat for dropOff dates\n",
    "trip$dropOff_Month <- trip$dropOff_dateString\n",
    "trip$dropOff_Month <- gsub(\"/.*$\", \"\", trip$dropOff_dateString)\n",
    "trip$dropOff_Month <- as.factor(trip$dropOff_Month)\n",
    "\n",
    "levels(trip$dropOff_Month)"
   ]
  },
  {
   "cell_type": "code",
   "execution_count": 33,
   "metadata": {},
   "outputs": [
    {
     "data": {
      "text/html": [
       "<ol class=list-inline>\n",
       "\t<li>'1'</li>\n",
       "\t<li>'10'</li>\n",
       "\t<li>'11'</li>\n",
       "\t<li>'12'</li>\n",
       "\t<li>'13'</li>\n",
       "\t<li>'14'</li>\n",
       "\t<li>'15'</li>\n",
       "\t<li>'16'</li>\n",
       "\t<li>'17'</li>\n",
       "\t<li>'18'</li>\n",
       "\t<li>'19'</li>\n",
       "\t<li>'2'</li>\n",
       "\t<li>'20'</li>\n",
       "\t<li>'21'</li>\n",
       "\t<li>'22'</li>\n",
       "\t<li>'23'</li>\n",
       "\t<li>'24'</li>\n",
       "\t<li>'25'</li>\n",
       "\t<li>'26'</li>\n",
       "\t<li>'27'</li>\n",
       "\t<li>'28'</li>\n",
       "\t<li>'29'</li>\n",
       "\t<li>'3'</li>\n",
       "\t<li>'30'</li>\n",
       "\t<li>'31'</li>\n",
       "\t<li>'4'</li>\n",
       "\t<li>'5'</li>\n",
       "\t<li>'6'</li>\n",
       "\t<li>'7'</li>\n",
       "\t<li>'8'</li>\n",
       "\t<li>'9'</li>\n",
       "</ol>\n"
      ],
      "text/latex": [
       "\\begin{enumerate*}\n",
       "\\item '1'\n",
       "\\item '10'\n",
       "\\item '11'\n",
       "\\item '12'\n",
       "\\item '13'\n",
       "\\item '14'\n",
       "\\item '15'\n",
       "\\item '16'\n",
       "\\item '17'\n",
       "\\item '18'\n",
       "\\item '19'\n",
       "\\item '2'\n",
       "\\item '20'\n",
       "\\item '21'\n",
       "\\item '22'\n",
       "\\item '23'\n",
       "\\item '24'\n",
       "\\item '25'\n",
       "\\item '26'\n",
       "\\item '27'\n",
       "\\item '28'\n",
       "\\item '29'\n",
       "\\item '3'\n",
       "\\item '30'\n",
       "\\item '31'\n",
       "\\item '4'\n",
       "\\item '5'\n",
       "\\item '6'\n",
       "\\item '7'\n",
       "\\item '8'\n",
       "\\item '9'\n",
       "\\end{enumerate*}\n"
      ],
      "text/markdown": [
       "1. '1'\n",
       "2. '10'\n",
       "3. '11'\n",
       "4. '12'\n",
       "5. '13'\n",
       "6. '14'\n",
       "7. '15'\n",
       "8. '16'\n",
       "9. '17'\n",
       "10. '18'\n",
       "11. '19'\n",
       "12. '2'\n",
       "13. '20'\n",
       "14. '21'\n",
       "15. '22'\n",
       "16. '23'\n",
       "17. '24'\n",
       "18. '25'\n",
       "19. '26'\n",
       "20. '27'\n",
       "21. '28'\n",
       "22. '29'\n",
       "23. '3'\n",
       "24. '30'\n",
       "25. '31'\n",
       "26. '4'\n",
       "27. '5'\n",
       "28. '6'\n",
       "29. '7'\n",
       "30. '8'\n",
       "31. '9'\n",
       "\n",
       "\n"
      ],
      "text/plain": [
       " [1] \"1\"  \"10\" \"11\" \"12\" \"13\" \"14\" \"15\" \"16\" \"17\" \"18\" \"19\" \"2\"  \"20\" \"21\" \"22\"\n",
       "[16] \"23\" \"24\" \"25\" \"26\" \"27\" \"28\" \"29\" \"3\"  \"30\" \"31\" \"4\"  \"5\"  \"6\"  \"7\"  \"8\" \n",
       "[31] \"9\" "
      ]
     },
     "metadata": {},
     "output_type": "display_data"
    }
   ],
   "source": [
    "# split day (of month) from full date\n",
    "trip$pickUp_DayOfMonth <- trip$pickUp_dateString\n",
    "trip$pickUp_DayOfMonth <- gsub(\"^.*?/(.*?)/.*$\", \"\\\\1\", trip$pickUp_dateString)\n",
    "trip$pickUp_DayOfMonth <- as.factor(trip$pickUp_DayOfMonth)\n",
    "\n",
    "trip$dropOff_DayOfMonth <- trip$dropOff_dateString\n",
    "trip$dropOff_DayOfMonth <- gsub(\"^.*?/(.*?)/.*$\", \"\\\\1\", trip$dropOff_dateString)\n",
    "trip$dropOff_DayOfMonth <- as.factor(trip$dropOff_DayOfMonth)\n",
    "\n",
    "paste(levels(trip$pickUp_DayOfMonth), sep=\" \")"
   ]
  },
  {
   "cell_type": "code",
   "execution_count": 34,
   "metadata": {},
   "outputs": [
    {
     "data": {
      "text/html": [
       "'2013'"
      ],
      "text/latex": [
       "'2013'"
      ],
      "text/markdown": [
       "'2013'"
      ],
      "text/plain": [
       "[1] \"2013\""
      ]
     },
     "metadata": {},
     "output_type": "display_data"
    }
   ],
   "source": [
    "# confirm that the the only year seen in the data is 2013\n",
    "years <- trip$pickUp_dateString\n",
    "years <- gsub(\"^.*/\", \"\", years)\n",
    "years <- as.factor(years)\n",
    "levels(years) # confirmed only 2013, no need to process and add a feature for these"
   ]
  },
  {
   "cell_type": "code",
   "execution_count": 38,
   "metadata": {},
   "outputs": [
    {
     "data": {
      "text/html": [
       "<ol class=list-inline>\n",
       "\t<li>1703987</li>\n",
       "\t<li>21</li>\n",
       "</ol>\n"
      ],
      "text/latex": [
       "\\begin{enumerate*}\n",
       "\\item 1703987\n",
       "\\item 21\n",
       "\\end{enumerate*}\n"
      ],
      "text/markdown": [
       "1. 1703987\n",
       "2. 21\n",
       "\n",
       "\n"
      ],
      "text/plain": [
       "[1] 1703987      21"
      ]
     },
     "metadata": {},
     "output_type": "display_data"
    },
    {
     "data": {
      "text/plain": [
       "                            medallion      \n",
       " 36CD8C29F77E2F6CBFFA96246F56DF76:    665  \n",
       " 3717C04FF182C423838EE021476A7A69:    608  \n",
       " 02F59ACEA8585B113601E19A3A5F4F47:    560  \n",
       " 9CCF07B476B482C2050A8C63360586F7:    560  \n",
       " 9F1F27280ACE1C0159EAFB1A7FF03771:    559  \n",
       " 87EC61B520189EFEAD8FDFBABD756E4A:    546  \n",
       " (Other)                         :1700489  \n",
       "                           hack_license                 pickup_datetime   \n",
       " 149974E97D992C3A227ED35C5EB3AA6B:    448   4/3/2013 7:34:00 PM :     13  \n",
       " 5BD83749A65720DA48E6DFEA47562405:    351   11/1/2013 8:05:00 PM:     12  \n",
       " D99D198395EC876497BBE06F1A26E954:    342   3/16/2013 7:58:00 PM:     12  \n",
       " D20DFC59B81A2918082D920FAC2D01B3:    337   3/28/2013 9:25:00 AM:     12  \n",
       " 676BC3464C5238DCCB33E719A5759ED4:    336   3/9/2013 10:58:00 PM:     12  \n",
       " 7B4B3A68E8CC41CEA47AAA2295A8E61E:    336   3/9/2013 9:57:00 PM :     12  \n",
       " (Other)                         :1701837   (Other)             :1703914  \n",
       "  pickUp_Hour       dropOff_Hour        pickUp_Date         dropOff_Date    \n",
       " 19     : 106965   19     : 109242   4/20/2013:   6152   4/20/2013:   6161  \n",
       " 18     : 102973   20     : 103043   5/31/2013:   6035   5/31/2013:   6024  \n",
       " 20     : 101494   18     : 101088   6/14/2013:   5954   6/14/2013:   5922  \n",
       " 21     :  99122   21     :  99575   3/9/2013 :   5940   3/9/2013 :   5903  \n",
       " 22     :  95420   22     :  96308   11/1/2013:   5840   11/1/2013:   5836  \n",
       " 14     :  86128   23     :  87133   4/5/2013 :   5818   4/5/2013 :   5806  \n",
       " (Other):1111885   (Other):1107598   (Other)  :1668248   (Other)  :1668335  \n",
       "  pickUp_Month    dropOff_Month    pickUp_DayOfMonth dropOff_DayOfMonth\n",
       " 3      :156858   3      :156886   13     :  59912   13     :  59923   \n",
       " 5      :148491   5      :148459   15     :  58939   16     :  58956   \n",
       " 4      :147860   4      :147845   16     :  58926   15     :  58952   \n",
       " 10     :147242   10     :147186   9      :  58899   17     :  58919   \n",
       " 11     :146984   11     :147019   17     :  58870   9      :  58835   \n",
       " 1      :145161   1      :145116   7      :  58147   10     :  58146   \n",
       " (Other):811391   (Other):811476   (Other):1350294   (Other):1350256   \n",
       " pickUp_Day     dropOff_Day    pickUp_isWeekend dropOff_isWeekend\n",
       " Sun  :225556   Sun  :227571   Min.   :0.0000   Min.   :0.000    \n",
       " Mon  :221549   Mon  :221386   1st Qu.:0.0000   1st Qu.:0.000    \n",
       " Tues :240791   Tues :240371   Median :0.0000   Median :0.000    \n",
       " Wed  :245845   Wed  :245600   Mean   :0.2829   Mean   :0.284    \n",
       " Thurs:250569   Thurs:249975   3rd Qu.:1.0000   3rd Qu.:1.000    \n",
       " Fri  :263159   Fri  :262644   Max.   :1.0000   Max.   :1.000    \n",
       " Sat  :256518   Sat  :256440                                     \n",
       " pickUp_isHoliday  dropOff_isHoliday pickUp_TimeOfDay.quad\n",
       " Min.   :0.00000   Min.   :0.00000   morning  :345891     \n",
       " 1st Qu.:0.00000   1st Qu.:0.00000   afternoon:484032     \n",
       " Median :0.00000   Median :0.00000   evening  :589354     \n",
       " Mean   :0.02855   Mean   :0.02861   night    :284710     \n",
       " 3rd Qu.:0.00000   3rd Qu.:0.00000                        \n",
       " Max.   :1.00000   Max.   :1.00000                        \n",
       "                                                          \n",
       " dropOff_TimeOfDay.quad  pickUp_TimeOfDay.sept  dropOff_TimeOfDay.sept\n",
       " morning  :331867       earlyMorning: 70941    earlyMorning: 67904    \n",
       " afternoon:485392       morning     :294203    morning     :284760    \n",
       " evening  :586880       midday      :247452    midday      :244973    \n",
       " night    :299848       afternoon   :319960    afternoon   :318043    \n",
       "                        evening     :311432    evening     :313373    \n",
       "                        night       :279356    night       :283016    \n",
       "                        lateNight   :180643    lateNight   :191918    "
      ]
     },
     "metadata": {},
     "output_type": "display_data"
    }
   ],
   "source": [
    "# choose columns to export for the date/time feature CSV\n",
    "# Use medallion, hack_license, pickup_datetime from original data\n",
    "export <- trip %>% select(medallion, hack_license, pickup_datetime)\n",
    "\n",
    "# add the final versions of created features\n",
    "export <- cbind(export, trip[ , c(\"pickUp_Hour\", \"dropOff_Hour\", \"pickUp_Date\", \n",
    "                                 \"dropOff_Date\", \"pickUp_Month\", \"dropOff_Month\", \n",
    "                                 \"pickUp_DayOfMonth\", \"dropOff_DayOfMonth\", \n",
    "                                 \"pickUp_Day\", \"dropOff_Day\", \n",
    "                                 \"pickUp_isWeekend\", \"dropOff_isWeekend\", \n",
    "                                 \"pickUp_isHoliday\", \"dropOff_isHoliday\", \n",
    "                                 \"pickUp_TimeOfDay.quad\", \"dropOff_TimeOfDay.quad\", \n",
    "                                 \"pickUp_TimeOfDay.sept\", \"dropOff_TimeOfDay.sept\")])\n",
    "\n",
    "dim(export)\n",
    "summary(export)"
   ]
  },
  {
   "cell_type": "code",
   "execution_count": 39,
   "metadata": {
    "collapsed": true
   },
   "outputs": [],
   "source": [
    "write.csv(export, \"trip_DateTimeFeatures.csv\")"
   ]
  },
  {
   "cell_type": "markdown",
   "metadata": {},
   "source": [
    "## Info Posted for the Features of \"trip_DateTimeFeatures.csv\"\n",
    "\n",
    "zipped CSV file available here:  \n",
    "https://drive.google.com/open?id=0B5IBlGlKA58cVUhUX3JRdmdFN3c\n",
    "\n",
    "\n",
    "The CSV file contains 1,703,987 observations with 21 feature columns and an index column (\"X\") unhelpfully provided by Rstudio when I wrote the data to a CSV file.  The file only contains date/time features created from the pickup and dropoff information from the Data Science 450 capstone NYC taxi trip data (\"NYC_Taxi_2013_One_Percent_Trip.CSV\") only.  Features were not created from the pickup information in the NYC taxi fare data (\"NYC_Taxi_2013_One_Percent_Fare.CSV\") given that, line for line in the original CSV files, the pickup date and time information, as well as the medallion and hack license information are identical.  \n",
    "\n",
    "\n",
    "\n",
    "---------------EXPLANATIONS BY FEATURE---------------\n",
    "\n",
    "<b>\"X\"</b> - index created by 'write.csv' function in Rstudio\n",
    "\n",
    "<b>\"medallion\"</b> - original feature from \"NYC_Taxi_2013_One_Percent_Trip\"\n",
    "\n",
    "<b>\"hack_license\"</b> - original feature from \"NYC_Taxi_2013_One_Percent_Trip\"\n",
    "\n",
    "<b>\"pickup_datetime\"</b> - original feature from \"NYC_Taxi_2013_One_Percent_Trip\"\n",
    "\n",
    "<b>\"pickUp_Hour\"</b> - the hour \"bin\" in which the trip pick up occured, in a 24-hour format ranging from 00 (for pickups between midnight to 1:00 AM) to 23 (for pickups between 11:00PM and midnight). This features was written and saved as a factor with levels labelled \"00\" to \"23\", but when this CSV file is read into R, they tend to be conveerted to integers 0-23, losing this formatting.\n",
    "\n",
    "<b>\"dropOff_Hour\"</b> - the hour \"bin\" in which the trip drop off occured, in the same 24-hour format used for \"pickUp_Hour\" \n",
    "\n",
    "<b>\"pickUp_Date\"</b> - the date of the trip pickup in the format \"%m/%d/%Y\"\n",
    "\n",
    "<b>\"dropOff_Date\"</b> - the date of the trip dropoff in the format \"%m/%d/%Y\" \n",
    "\n",
    "<b>\"pickUp_Month\"</b> - the month number of the trip pickup.  In R this can be converted to the month name as an ordered factor using (from base package) \"DATAFRAME\\$pickUp_Month <- month.abb[DATAFRAME\\$pickUp_Month]\". The result of this is a vector of character (string) class, which can then be converted to a factor with or without ordered levels.  To convert this feature directly to a factor with ordered levels of month abbreviations use package lubridate and its function \"month\": \"DATAFRAME\\$pickUp_Month <- month(ymd(010101) + months(DATAFRAME\\$pickUp_Month - 1), label=T, abbr=T)\"\n",
    "\n",
    "<b>\"dropOff_Month\"</b> - the month number of the trip dropoff.  This can be converted in R using the same approaches described for \"pickUp_Month\"\n",
    "\n",
    "<b>\"pickUp_DayOfMonth\"</b> - the day number of the original pickup date/time (eg. \"3\" in \"1/3/2013\")\n",
    "\n",
    "<b>\"dropOff_DayOfMonth\"</b> -   the day number of the original dropoff date/time (eg. \"3\" in \"1/3/2013\")\n",
    "\n",
    "<b>\"pickUp_Day\"</b> - the abbreviated day of the week of the trip pickup (\"Mon\", \"Tues\", \"Wed\", \"Thurs\", \"Fri\", \"Sat\", and \"Sun\")\n",
    "\n",
    "<b>\"dropOff_Day\"</b> - the abbreviated day of the week of the trip dropoff in the same format as \"pickUp_Day\" \n",
    "\n",
    "<b>\"pickUp_isWeekend\"</b> - binary feature indicating whether the trip pickup occured between 00:00-23:59, inclusive, on a Saturday or Sunday (value \"1\"), or not (\"0\").  \n",
    "\n",
    "<b>\"dropOff_isWeekend\"</b> - binary feature indicating whether the trip dropoff occured on a Saturday or Sunday, defined and formatted in the same manner as \"pickUp_isWeekend\"\n",
    "\n",
    "<b>\"pickUp_isHoliday\"</b> - binary feature indicating whether the trip pickup occured between 00:00-23:59, inclusive, on a federal holiday (value \"1\"), or not (\"0\").  The federal holidays covered by this data were:\n",
    "<ul>        <li>New Years Day               1/1/2013</li>\n",
    "\t\t\t<li>MLK Day                     1/21/2013</li>\n",
    "\t\t\t<li>Presidents' Day             2/18/2013</li>\n",
    "\t\t\t<li>Mother's Day                5/12/2013</li>\n",
    "\t\t\t<li>Memorial Day                5/27/2013</li>\n",
    "            <li>Father's Day                6/16/2013</li>\n",
    "\t\t\t<li>Independence Day            7/4/2013</li>\n",
    "\t\t\t<li>Labor Day                   9/2/2013</li>\n",
    "\t\t\t<li>Columbus Day                10/4/2013</li>\n",
    "\t\t\t<li>Veterans' Day               11/11/2013</li>\n",
    "\t\t\t<li>Thanksgiving                11/28/2013</li>\n",
    "            <li>day after Thanksgiving      11/29/2013</li>\n",
    "\t\t\t<li>Christmas Day               12/25/2013</li>\n",
    "            </ul>\n",
    "            \n",
    "<b>\"dropOff_isHoliday\"</b> - binary feature indicating whether the trip dropoff occured on a federal holiday, defined and formatted in the same manner as \"pickUp_isHoliday\" \n",
    "\n",
    "<b>\"pickUp_TimeOfDay.quad\"</b> - factor with four levels indicating the time of day of the trip pickup based on the following level/time mappings.  The divisions in the 24-hour day were made to roughly approximate the human workday cycle rather than to divide the 24-hour period into equal time spans.  \n",
    "<ul>        <li>\"morning\"           05:00-10:59</li>\n",
    "            <li>\"afternoon\"         11:00-16:59</li>\n",
    "            <li>\"evening\"           17:00-22:59</li>\n",
    "            <li>\"night\"             23:00-23:59 and 00:00-04:49</li>\n",
    "</ul>\n",
    "\n",
    "<b>\"dropOff_TimeOfDay.quad\"</b> - factor with four levels indicating the time of day of the trip dropoff, based on the same level/time mappings used for \"pickUp_TimeOfDay.quad\"\n",
    "\n",
    "<b>\"pickUp_TimeOfDay.sept\"</b> - factor with seven levels indicating the time of day of the trip pickup based on the following level/time mappings. These divisions made to roughly approximate the human workday cycle rather than to divide the 24-hour period into equal time spans.\n",
    "<ul>        <li>\"earlyMorning\"      04:00-06:59</li>\n",
    "            <li>\"morning\"           07:00-10:59</li>\n",
    "            <li>\"midday\"            11:00-13:59</li>\n",
    "            <li>\"afternoon\"         14:00-17:59</li>\n",
    "            <li>\"evening\"           18:00-20:59</li>\n",
    "            <li>\"night\"             21:00-23:59</li>\n",
    "            <li>\"lateNight\"         00:00-03:59</li>\n",
    "</ul>\n",
    "\n",
    "<b>\"dropOff_TimeOfDay.sept\"</b> - factor with seven levels indicating the time of day of the trip dropoff, based on the same level/time mappings used for \"pickUp_TimeOfDay.sept\""
   ]
  }
 ],
 "metadata": {
  "kernelspec": {
   "display_name": "R",
   "language": "R",
   "name": "ir"
  },
  "language_info": {
   "codemirror_mode": "r",
   "file_extension": ".r",
   "mimetype": "text/x-r-source",
   "name": "R",
   "pygments_lexer": "r",
   "version": "3.4.1"
  }
 },
 "nbformat": 4,
 "nbformat_minor": 2
}
